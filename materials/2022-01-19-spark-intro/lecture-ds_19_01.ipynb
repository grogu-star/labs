{
 "cells": [
  {
   "cell_type": "markdown",
   "metadata": {
    "pycharm": {
     "name": "#%% md\n"
    }
   },
   "source": [
    "## Сергей Гришаев\n",
    "## Senior Data Engineer @ SberMarket"
   ]
  },
  {
   "cell_type": "code",
   "execution_count": 1,
   "metadata": {
    "pycharm": {
     "name": "#%%\n"
    }
   },
   "outputs": [],
   "source": [
    "from IPython.display import IFrame, Image"
   ]
  },
  {
   "cell_type": "markdown",
   "metadata": {
    "pycharm": {
     "name": "#%% md\n"
    }
   },
   "source": [
    "## Мотивация создания Apache Spark"
   ]
  },
  {
   "cell_type": "markdown",
   "metadata": {
    "pycharm": {
     "name": "#%% md\n"
    }
   },
   "source": [
    "### Рассмотрим два примера приложений:\n",
    "- Обучить модель на больших данных (итеративный алгоритм над фиксированным датасетом)\n",
    "- Провести ad-hoc анализ данных из двух таблиц (выполнить несколько интерактивных запросов с джойнами и группировками)"
   ]
  },
  {
   "cell_type": "markdown",
   "metadata": {
    "pycharm": {
     "name": "#%% md\n"
    }
   },
   "source": [
    "## Основные недостатки классического MapReduce\n",
    "\n",
    "- Постоянное чтение/запись во внешнее хранилище\n",
    "- Сложный API\n",
    "- Ограниченное число источников/приемников данных\n",
    "- MapReduce - это только вычислительный фреймворк\n",
    "\n",
    "https://arxiv.org/pdf/1209.2191.pdf MapReduce is Good Enough? If All You Have is a Hammer, Throw Away Everything That’s Not a Nail! "
   ]
  },
  {
   "cell_type": "markdown",
   "metadata": {
    "pycharm": {
     "name": "#%% md\n"
    }
   },
   "source": [
    "<img src=\"pics/mapper_2.png\" width=700/>"
   ]
  },
  {
   "cell_type": "markdown",
   "metadata": {
    "pycharm": {
     "name": "#%% md\n"
    }
   },
   "source": [
    "<img src=\"pics/reducer.png\" width=700/>"
   ]
  },
  {
   "cell_type": "markdown",
   "metadata": {
    "pycharm": {
     "name": "#%% md\n"
    }
   },
   "source": [
    "## Apache Spark - это *быстрая* распределенная вычислительная платформа *общего назначения*\n",
    "\n",
    "1. **Быстрая** \n",
    "\n",
    "    - Кеширование рабочих данных в памяти\n",
    "    - Ленивые вычисления\n",
    "\n",
    "\n",
    "2. **Общего назначения** \n",
    "\n",
    "    - Можно реализовать любые вычисления (батчевые, итеративные, интерактивные, в режиме реального времени)\n",
    "    - Более общая модель программирования (узлы в графе вычислений могут быть не только map и reduce)\n",
    "    - Высокоуровневый API (Scala, Java, Python, R)\n",
    "    - Локальная установка\n",
    "\n"
   ]
  },
  {
   "cell_type": "markdown",
   "metadata": {
    "pycharm": {
     "name": "#%% md\n"
    }
   },
   "source": [
    "<img src=\"pics/spark_stack.png\" width=1000/>"
   ]
  },
  {
   "cell_type": "markdown",
   "metadata": {
    "pycharm": {
     "name": "#%% md\n"
    }
   },
   "source": [
    "## Множество источников данных"
   ]
  },
  {
   "cell_type": "markdown",
   "metadata": {
    "pycharm": {
     "name": "#%% md\n"
    }
   },
   "source": [
    "<img src=\"pics/spark_data_sources.jpg\" width=1000/>"
   ]
  },
  {
   "cell_type": "markdown",
   "metadata": {
    "pycharm": {
     "name": "#%% md\n"
    }
   },
   "source": [
    "## Архитектура Apache Spark"
   ]
  },
  {
   "cell_type": "markdown",
   "metadata": {
    "pycharm": {
     "name": "#%% md\n"
    }
   },
   "source": [
    "<img src=\"pics/SparkYARN.png\" width=800/>"
   ]
  },
  {
   "cell_type": "markdown",
   "metadata": {
    "pycharm": {
     "name": "#%% md\n"
    }
   },
   "source": [
    "## Запуск в локальном режиме"
   ]
  },
  {
   "cell_type": "markdown",
   "metadata": {
    "pycharm": {
     "name": "#%% md\n"
    }
   },
   "source": [
    "<img src=\"pics/schema_local_2.png\" width=600/>"
   ]
  },
  {
   "cell_type": "markdown",
   "metadata": {
    "pycharm": {
     "name": "#%% md\n"
    }
   },
   "source": [
    "## Запуск PySpark"
   ]
  },
  {
   "cell_type": "code",
   "execution_count": 2,
   "metadata": {
    "pycharm": {
     "name": "#%%\n"
    }
   },
   "outputs": [],
   "source": [
    "import os\n",
    "import sys\n",
    "import pandas \n",
    "os.environ[\"PYSPARK_PYTHON\"]='/opt/anaconda/envs/bd9/bin/python'\n",
    "os.environ[\"SPARK_HOME\"]='/usr/hdp/current/spark2-client'\n",
    "os.environ[\"PYSPARK_SUBMIT_ARGS\"]='--num-executors 3 pyspark-shell'\n",
    "\n",
    "spark_home = os.environ.get('SPARK_HOME', None)\n",
    "\n",
    "sys.path.insert(0, os.path.join(spark_home, 'python'))\n",
    "sys.path.insert(0, os.path.join(spark_home, 'python/lib/py4j-0.10.7-src.zip'))\n"
   ]
  },
  {
   "cell_type": "markdown",
   "metadata": {
    "pycharm": {
     "name": "#%% md\n"
    }
   },
   "source": [
    "## SparkContext (sc) - это основной управляющий объект."
   ]
  },
  {
   "cell_type": "code",
   "execution_count": 137,
   "metadata": {
    "pycharm": {
     "name": "#%%\n"
    }
   },
   "outputs": [],
   "source": [
    "from pyspark import SparkContext, SparkConf\n",
    "\n",
    "config = SparkConf()\n",
    "config.set(\"spark.app.name\", \"Sergey Grishaev Spark RDD app\")\n",
    "\n",
    "sc = SparkContext(conf=config)"
   ]
  },
  {
   "cell_type": "markdown",
   "metadata": {
    "pycharm": {
     "name": "#%% md\n"
    }
   },
   "source": [
    "## Для получения всех установленных опций конфигурации можно использовать `sc.getConf()`"
   ]
  },
  {
   "cell_type": "code",
   "execution_count": 138,
   "metadata": {
    "pycharm": {
     "name": "#%%\n"
    }
   },
   "outputs": [
    {
     "data": {
      "text/html": [
       "\n",
       "        <div>\n",
       "            <p><b>SparkContext</b></p>\n",
       "\n",
       "            <p><a href=\"http://spark-master-3.newprolab.com:4040\">Spark UI</a></p>\n",
       "\n",
       "            <dl>\n",
       "              <dt>Version</dt>\n",
       "                <dd><code>v2.4.7</code></dd>\n",
       "              <dt>Master</dt>\n",
       "                <dd><code>yarn</code></dd>\n",
       "              <dt>AppName</dt>\n",
       "                <dd><code>Sergey Grishaev Spark RDD app</code></dd>\n",
       "            </dl>\n",
       "        </div>\n",
       "        "
      ],
      "text/plain": [
       "<SparkContext master=yarn appName=Sergey Grishaev Spark RDD app>"
      ]
     },
     "execution_count": 138,
     "metadata": {},
     "output_type": "execute_result"
    }
   ],
   "source": [
    "sc"
   ]
  },
  {
   "cell_type": "code",
   "execution_count": 5,
   "metadata": {
    "scrolled": true,
    "pycharm": {
     "name": "#%%\n"
    }
   },
   "outputs": [
    {
     "data": {
      "text/plain": [
       "[('spark.history.kerberos.keytab', 'none'),\n",
       " ('spark.eventLog.enabled', 'true'),\n",
       " ('spark.ui.proxyBase', '/proxy/application_1673689354371_0045'),\n",
       " ('spark.history.fs.cleaner.maxAge', '7d'),\n",
       " ('spark.history.ui.port', '18081'),\n",
       " ('spark.driver.extraLibraryPath',\n",
       "  '/usr/hdp/current/hadoop-client/lib/native:/usr/hdp/current/hadoop-client/lib/native/Linux-amd64-64'),\n",
       " ('spark.shuffle.io.serverThreads', '128'),\n",
       " ('spark.sql.streaming.streamingQueryListeners', ''),\n",
       " ('spark.org.apache.hadoop.yarn.server.webproxy.amfilter.AmIpFilter.param.PROXY_URI_BASES',\n",
       "  'http://spark-master-1.newprolab.com:8088/proxy/application_1673689354371_0045'),\n",
       " ('spark.executor.extraLibraryPath',\n",
       "  '/usr/hdp/current/hadoop-client/lib/native:/usr/hdp/current/hadoop-client/lib/native/Linux-amd64-64'),\n",
       " ('spark.app.id', 'application_1673689354371_0045'),\n",
       " ('spark.jars.repositories', 'https://repos.spark-packages.org/'),\n",
       " ('spark.shuffle.file.buffer', '1m'),\n",
       " ('spark.yarn.dist.jars',\n",
       "  'file:///data/home/teacher/.ivy2/jars/org.apache.spark_spark-sql-kafka-0-10_2.11-2.4.7.jar,file:///data/home/teacher/.ivy2/jars/graphframes_graphframes-0.8.1-spark2.4-s_2.11.jar,file:///data/home/teacher/.ivy2/jars/databricks_spark-sklearn-0.2.3.jar,file:///data/home/teacher/.ivy2/jars/org.apache.kafka_kafka-clients-2.0.0.jar,file:///data/home/teacher/.ivy2/jars/org.spark-project.spark_unused-1.0.0.jar,file:///data/home/teacher/.ivy2/jars/org.lz4_lz4-java-1.4.0.jar,file:///data/home/teacher/.ivy2/jars/org.xerial.snappy_snappy-java-1.1.7.5.jar,file:///data/home/teacher/.ivy2/jars/org.slf4j_slf4j-api-1.7.16.jar'),\n",
       " ('spark.sql.hive.convertMetastoreOrc', 'true'),\n",
       " ('spark.yarn.dist.files', ''),\n",
       " ('spark.sql.autoBroadcastJoinThreshold', '26214400'),\n",
       " ('spark.history.fs.cleaner.interval', '1d'),\n",
       " ('spark.ui.filters',\n",
       "  'org.apache.hadoop.yarn.server.webproxy.amfilter.AmIpFilter'),\n",
       " ('spark.eventLog.dir', 'hdfs:///spark2-history/'),\n",
       " ('spark.yarn.historyServer.address', 'spark-master-1.newprolab.com:18081'),\n",
       " ('spark.yarn.dist.pyFiles',\n",
       "  'file:///data/home/teacher/.ivy2/jars/org.apache.spark_spark-sql-kafka-0-10_2.11-2.4.7.jar,file:///data/home/teacher/.ivy2/jars/graphframes_graphframes-0.8.1-spark2.4-s_2.11.jar,file:///data/home/teacher/.ivy2/jars/databricks_spark-sklearn-0.2.3.jar,file:///data/home/teacher/.ivy2/jars/org.apache.kafka_kafka-clients-2.0.0.jar,file:///data/home/teacher/.ivy2/jars/org.spark-project.spark_unused-1.0.0.jar,file:///data/home/teacher/.ivy2/jars/org.lz4_lz4-java-1.4.0.jar,file:///data/home/teacher/.ivy2/jars/org.xerial.snappy_snappy-java-1.1.7.5.jar,file:///data/home/teacher/.ivy2/jars/org.slf4j_slf4j-api-1.7.16.jar'),\n",
       " ('spark.executor.id', 'driver'),\n",
       " ('spark.sql.orc.impl', 'native'),\n",
       " ('spark.history.fs.logDirectory', 'hdfs:///spark2-history/'),\n",
       " ('spark.org.apache.hadoop.yarn.server.webproxy.amfilter.AmIpFilter.param.PROXY_HOSTS',\n",
       "  'spark-master-1.newprolab.com'),\n",
       " ('spark.driver.appUIAddress', 'http://spark-master-3.newprolab.com:4040'),\n",
       " ('spark.extraListeners', ''),\n",
       " ('spark.executorEnv.PYTHONPATH',\n",
       "  '{{PWD}}/pyspark.zip<CPS>{{PWD}}/py4j-0.10.7-src.zip<CPS>{{PWD}}/org.apache.spark_spark-sql-kafka-0-10_2.11-2.4.7.jar<CPS>{{PWD}}/graphframes_graphframes-0.8.1-spark2.4-s_2.11.jar<CPS>{{PWD}}/databricks_spark-sklearn-0.2.3.jar<CPS>{{PWD}}/org.apache.kafka_kafka-clients-2.0.0.jar<CPS>{{PWD}}/org.spark-project.spark_unused-1.0.0.jar<CPS>{{PWD}}/org.lz4_lz4-java-1.4.0.jar<CPS>{{PWD}}/org.xerial.snappy_snappy-java-1.1.7.5.jar<CPS>{{PWD}}/org.slf4j_slf4j-api-1.7.16.jar'),\n",
       " ('spark.sql.warehouse.dir', '/apps/spark/warehouse'),\n",
       " ('spark.history.store.path', '/var/lib/spark2/shs_db'),\n",
       " ('spark.port.maxRetries', '100'),\n",
       " ('spark.executor.instances', '3'),\n",
       " ('spark.yarn.secondary.jars',\n",
       "  'org.apache.spark_spark-sql-kafka-0-10_2.11-2.4.7.jar,graphframes_graphframes-0.8.1-spark2.4-s_2.11.jar,databricks_spark-sklearn-0.2.3.jar,org.apache.kafka_kafka-clients-2.0.0.jar,org.spark-project.spark_unused-1.0.0.jar,org.lz4_lz4-java-1.4.0.jar,org.xerial.snappy_snappy-java-1.1.7.5.jar,org.slf4j_slf4j-api-1.7.16.jar'),\n",
       " ('spark.sql.statistics.fallBackToHdfs', 'true'),\n",
       " ('spark.app.name', 'Sergey Grishaev Spark RDD app'),\n",
       " ('spark.driver.port', '35857'),\n",
       " ('spark.history.provider',\n",
       "  'org.apache.spark.deploy.history.FsHistoryProvider'),\n",
       " ('spark.serializer.objectStreamReset', '100'),\n",
       " ('spark.submit.deployMode', 'client'),\n",
       " ('spark.driver.host', 'spark-master-3.newprolab.com'),\n",
       " ('spark.driver.extraClassPath', ''),\n",
       " ('spark.sql.hive.metastore.jars',\n",
       "  '/usr/hdp/current/spark2-client/standalone-metastore/*'),\n",
       " ('spark.yarn.queue', 'default'),\n",
       " ('spark.history.fs.cleaner.enabled', 'true'),\n",
       " ('spark.sql.queryExecutionListeners', ''),\n",
       " ('spark.master', 'yarn'),\n",
       " ('spark.io.compression.lz4.blockSize', '128kb'),\n",
       " ('spark.history.kerberos.principal', 'none'),\n",
       " ('spark.jars.packages',\n",
       "  'org.apache.spark:spark-sql-kafka-0-10_2.11:2.4.7,graphframes:graphframes:0.8.1-spark2.4-s_2.11,databricks:spark-sklearn:0.2.3'),\n",
       " ('spark.rdd.compress', 'True'),\n",
       " ('spark.sql.orc.filterPushdown', 'true'),\n",
       " ('spark.shuffle.io.backLog', '8192'),\n",
       " ('spark.repl.local.jars',\n",
       "  'file:///data/home/teacher/.ivy2/jars/org.apache.spark_spark-sql-kafka-0-10_2.11-2.4.7.jar,file:///data/home/teacher/.ivy2/jars/graphframes_graphframes-0.8.1-spark2.4-s_2.11.jar,file:///data/home/teacher/.ivy2/jars/databricks_spark-sklearn-0.2.3.jar,file:///data/home/teacher/.ivy2/jars/org.apache.kafka_kafka-clients-2.0.0.jar,file:///data/home/teacher/.ivy2/jars/org.spark-project.spark_unused-1.0.0.jar,file:///data/home/teacher/.ivy2/jars/org.lz4_lz4-java-1.4.0.jar,file:///data/home/teacher/.ivy2/jars/org.xerial.snappy_snappy-java-1.1.7.5.jar,file:///data/home/teacher/.ivy2/jars/org.slf4j_slf4j-api-1.7.16.jar'),\n",
       " ('spark.unsafe.sorter.spill.reader.buffer.size', '1m'),\n",
       " ('spark.yarn.isPython', 'true'),\n",
       " ('spark.shuffle.unsafe.file.output.buffer', '5m'),\n",
       " ('spark.executor.extraJavaOptions', '-XX:+UseNUMA'),\n",
       " ('spark.submit.pyFiles',\n",
       "  '/data/home/teacher/.ivy2/jars/org.apache.spark_spark-sql-kafka-0-10_2.11-2.4.7.jar,/data/home/teacher/.ivy2/jars/graphframes_graphframes-0.8.1-spark2.4-s_2.11.jar,/data/home/teacher/.ivy2/jars/databricks_spark-sklearn-0.2.3.jar,/data/home/teacher/.ivy2/jars/org.apache.kafka_kafka-clients-2.0.0.jar,/data/home/teacher/.ivy2/jars/org.spark-project.spark_unused-1.0.0.jar,/data/home/teacher/.ivy2/jars/org.lz4_lz4-java-1.4.0.jar,/data/home/teacher/.ivy2/jars/org.xerial.snappy_snappy-java-1.1.7.5.jar,/data/home/teacher/.ivy2/jars/org.slf4j_slf4j-api-1.7.16.jar'),\n",
       " ('spark.ui.showConsoleProgress', 'true'),\n",
       " ('spark.sql.hive.metastore.version', '3.0')]"
      ]
     },
     "execution_count": 5,
     "metadata": {},
     "output_type": "execute_result"
    }
   ],
   "source": [
    "sc.getConf().getAll()"
   ]
  },
  {
   "cell_type": "markdown",
   "metadata": {
    "pycharm": {
     "name": "#%% md\n"
    }
   },
   "source": [
    "## Основные абстракции Spark\n",
    "- RDD - Resilient Distributed Dataset - представляет собой распределенную коллекцию данных. RDD обладает свойствами \n",
    "    - неизменяемости (операции над RDD приводят к созданию нового RDD) \n",
    "    - отказоустойчивости (в случае утери данных на каком либо шаге выполнения данные восстанавливаются из источника) \n",
    "    - поддерживает ленивые вычисления (вычисления не производятся если их результат не сохраняется во вне или не используется в других вычислениях)\n",
    "- DAG - Directed Acyclic Graph - Представляет собой набор вершин и ребер, где вершины представляют собой RDD, а ребра операции над RDD"
   ]
  },
  {
   "cell_type": "markdown",
   "metadata": {
    "pycharm": {
     "name": "#%% md\n"
    }
   },
   "source": [
    "## Существует два способа создать RDD\n",
    "- распределить коллекцию объектов с драйвера\n",
    "- загрузить внешний датасет"
   ]
  },
  {
   "cell_type": "markdown",
   "metadata": {
    "pycharm": {
     "name": "#%% md\n"
    }
   },
   "source": [
    "## 1. Распределить коллекцию с драйвера"
   ]
  },
  {
   "cell_type": "code",
   "execution_count": 7,
   "metadata": {
    "pycharm": {
     "name": "#%%\n"
    }
   },
   "outputs": [],
   "source": [
    "import numpy as np\n",
    "vocabulary = (\"Apache\", \"Spark\", \"Hadoop\")\n",
    "numbers = np.random.randint(10, size=10000)\n",
    "words = np.random.choice(vocabulary, size=10000)\n",
    "collection = zip(numbers, words)"
   ]
  },
  {
   "cell_type": "code",
   "execution_count": 9,
   "metadata": {
    "pycharm": {
     "name": "#%%\n"
    }
   },
   "outputs": [
    {
     "data": {
      "text/plain": [
       "<zip at 0x7f7bc84e7a48>"
      ]
     },
     "execution_count": 9,
     "metadata": {},
     "output_type": "execute_result"
    }
   ],
   "source": [
    "collection"
   ]
  },
  {
   "cell_type": "code",
   "execution_count": 8,
   "metadata": {
    "pycharm": {
     "name": "#%%\n"
    }
   },
   "outputs": [],
   "source": [
    "rdd = sc.parallelize(collection)"
   ]
  },
  {
   "cell_type": "code",
   "execution_count": 10,
   "metadata": {
    "pycharm": {
     "name": "#%%\n"
    }
   },
   "outputs": [
    {
     "data": {
      "text/plain": [
       "3"
      ]
     },
     "execution_count": 10,
     "metadata": {},
     "output_type": "execute_result"
    }
   ],
   "source": [
    "rdd.getNumPartitions()"
   ]
  },
  {
   "cell_type": "code",
   "execution_count": 11,
   "metadata": {
    "pycharm": {
     "name": "#%%\n"
    }
   },
   "outputs": [
    {
     "data": {
      "text/plain": [
       "10000"
      ]
     },
     "execution_count": 11,
     "metadata": {},
     "output_type": "execute_result"
    }
   ],
   "source": [
    "rdd.count()"
   ]
  },
  {
   "cell_type": "code",
   "execution_count": 38,
   "metadata": {
    "pycharm": {
     "name": "#%%\n"
    }
   },
   "outputs": [
    {
     "data": {
      "text/plain": [
       "['__add__',\n",
       " '__class__',\n",
       " '__delattr__',\n",
       " '__dict__',\n",
       " '__dir__',\n",
       " '__doc__',\n",
       " '__eq__',\n",
       " '__format__',\n",
       " '__ge__',\n",
       " '__getattribute__',\n",
       " '__getnewargs__',\n",
       " '__gt__',\n",
       " '__hash__',\n",
       " '__init__',\n",
       " '__init_subclass__',\n",
       " '__le__',\n",
       " '__lt__',\n",
       " '__module__',\n",
       " '__ne__',\n",
       " '__new__',\n",
       " '__reduce__',\n",
       " '__reduce_ex__',\n",
       " '__repr__',\n",
       " '__setattr__',\n",
       " '__sizeof__',\n",
       " '__str__',\n",
       " '__subclasshook__',\n",
       " '__weakref__',\n",
       " '_computeFractionForSampleSize',\n",
       " '_defaultReducePartitions',\n",
       " '_id',\n",
       " '_is_barrier',\n",
       " '_jrdd',\n",
       " '_jrdd_deserializer',\n",
       " '_memory_limit',\n",
       " '_pickled',\n",
       " '_reserialize',\n",
       " '_to_java_object_rdd',\n",
       " 'aggregate',\n",
       " 'aggregateByKey',\n",
       " 'barrier',\n",
       " 'cache',\n",
       " 'cartesian',\n",
       " 'checkpoint',\n",
       " 'coalesce',\n",
       " 'cogroup',\n",
       " 'collect',\n",
       " 'collectAsMap',\n",
       " 'combineByKey',\n",
       " 'context',\n",
       " 'count',\n",
       " 'countApprox',\n",
       " 'countApproxDistinct',\n",
       " 'countByKey',\n",
       " 'countByValue',\n",
       " 'ctx',\n",
       " 'distinct',\n",
       " 'filter',\n",
       " 'first',\n",
       " 'flatMap',\n",
       " 'flatMapValues',\n",
       " 'fold',\n",
       " 'foldByKey',\n",
       " 'foreach',\n",
       " 'foreachPartition',\n",
       " 'fullOuterJoin',\n",
       " 'getCheckpointFile',\n",
       " 'getNumPartitions',\n",
       " 'getStorageLevel',\n",
       " 'glom',\n",
       " 'groupBy',\n",
       " 'groupByKey',\n",
       " 'groupWith',\n",
       " 'histogram',\n",
       " 'id',\n",
       " 'intersection',\n",
       " 'isCheckpointed',\n",
       " 'isEmpty',\n",
       " 'isLocallyCheckpointed',\n",
       " 'is_cached',\n",
       " 'is_checkpointed',\n",
       " 'join',\n",
       " 'keyBy',\n",
       " 'keys',\n",
       " 'leftOuterJoin',\n",
       " 'localCheckpoint',\n",
       " 'lookup',\n",
       " 'map',\n",
       " 'mapPartitions',\n",
       " 'mapPartitionsWithIndex',\n",
       " 'mapPartitionsWithSplit',\n",
       " 'mapValues',\n",
       " 'max',\n",
       " 'mean',\n",
       " 'meanApprox',\n",
       " 'min',\n",
       " 'name',\n",
       " 'partitionBy',\n",
       " 'partitioner',\n",
       " 'persist',\n",
       " 'pipe',\n",
       " 'randomSplit',\n",
       " 'reduce',\n",
       " 'reduceByKey',\n",
       " 'reduceByKeyLocally',\n",
       " 'repartition',\n",
       " 'repartitionAndSortWithinPartitions',\n",
       " 'rightOuterJoin',\n",
       " 'sample',\n",
       " 'sampleByKey',\n",
       " 'sampleStdev',\n",
       " 'sampleVariance',\n",
       " 'saveAsHadoopDataset',\n",
       " 'saveAsHadoopFile',\n",
       " 'saveAsNewAPIHadoopDataset',\n",
       " 'saveAsNewAPIHadoopFile',\n",
       " 'saveAsPickleFile',\n",
       " 'saveAsSequenceFile',\n",
       " 'saveAsTextFile',\n",
       " 'setName',\n",
       " 'sortBy',\n",
       " 'sortByKey',\n",
       " 'stats',\n",
       " 'stdev',\n",
       " 'subtract',\n",
       " 'subtractByKey',\n",
       " 'sum',\n",
       " 'sumApprox',\n",
       " 'take',\n",
       " 'takeOrdered',\n",
       " 'takeSample',\n",
       " 'toDebugString',\n",
       " 'toLocalIterator',\n",
       " 'top',\n",
       " 'treeAggregate',\n",
       " 'treeReduce',\n",
       " 'union',\n",
       " 'unpersist',\n",
       " 'values',\n",
       " 'variance',\n",
       " 'zip',\n",
       " 'zipWithIndex',\n",
       " 'zipWithUniqueId']"
      ]
     },
     "execution_count": 38,
     "metadata": {},
     "output_type": "execute_result"
    }
   ],
   "source": [
    "dir(rdd)"
   ]
  },
  {
   "cell_type": "code",
   "execution_count": 40,
   "metadata": {
    "pycharm": {
     "name": "#%%\n"
    }
   },
   "outputs": [
    {
     "data": {
      "text/plain": [
       "b'(3) ParallelCollectionRDD[0] at parallelize at PythonRDD.scala:195 []'"
      ]
     },
     "execution_count": 40,
     "metadata": {},
     "output_type": "execute_result"
    }
   ],
   "source": [
    "rdd.toDebugString()"
   ]
  },
  {
   "cell_type": "code",
   "execution_count": 12,
   "metadata": {
    "pycharm": {
     "name": "#%%\n"
    }
   },
   "outputs": [
    {
     "data": {
      "text/plain": [
       "10000"
      ]
     },
     "execution_count": 12,
     "metadata": {},
     "output_type": "execute_result"
    }
   ],
   "source": [
    "rdd.count()"
   ]
  },
  {
   "cell_type": "code",
   "execution_count": 13,
   "metadata": {
    "pycharm": {
     "name": "#%%\n"
    }
   },
   "outputs": [
    {
     "data": {
      "text/plain": [
       "[(8, 'Spark'),\n",
       " (5, 'Apache'),\n",
       " (5, 'Hadoop'),\n",
       " (5, 'Spark'),\n",
       " (0, 'Spark'),\n",
       " (1, 'Apache'),\n",
       " (9, 'Spark'),\n",
       " (8, 'Hadoop'),\n",
       " (8, 'Spark'),\n",
       " (3, 'Spark')]"
      ]
     },
     "execution_count": 13,
     "metadata": {},
     "output_type": "execute_result"
    }
   ],
   "source": [
    "rdd.take(10)"
   ]
  },
  {
   "cell_type": "code",
   "execution_count": 14,
   "metadata": {
    "pycharm": {
     "name": "#%%\n"
    }
   },
   "outputs": [
    {
     "data": {
      "text/plain": [
       "3"
      ]
     },
     "execution_count": 14,
     "metadata": {},
     "output_type": "execute_result"
    }
   ],
   "source": [
    "rdd.getNumPartitions()"
   ]
  },
  {
   "cell_type": "markdown",
   "metadata": {
    "pycharm": {
     "name": "#%% md\n"
    }
   },
   "source": [
    "## 2. Загрузить внешний датасет (датасет загружается из HDFS)"
   ]
  },
  {
   "cell_type": "code",
   "execution_count": 15,
   "metadata": {
    "pycharm": {
     "name": "#%%\n"
    }
   },
   "outputs": [
    {
     "name": "stdout",
     "output_type": "stream",
     "text": [
      "-rw-r--r--   3 hdfs hdfs      19462 2022-01-06 18:47 /lectures/lecture01/data/ips.txt\r\n"
     ]
    }
   ],
   "source": [
    "!hdfs dfs -ls /lectures/lecture01/data/ips.txt"
   ]
  },
  {
   "cell_type": "code",
   "execution_count": 16,
   "metadata": {
    "pycharm": {
     "name": "#%%\n"
    }
   },
   "outputs": [
    {
     "name": "stdout",
     "output_type": "stream",
     "text": [
      "192.168.0.1\tCHINA\r\n",
      "192.168.0.2\tCHINA\r\n",
      "192.168.0.3\tCHINA\r\n",
      "192.168.0.4\tCHINA\r\n",
      "192.168.0.5\tCHINA\r\n",
      "192.168.0.6\tCHINA\r\n",
      "192.168.0.7\tCHINA\r\n",
      "192.168.0.8\tCHINA\r\n",
      "192.168.0.9\tCHINA\r\n",
      "192.168.0.10\tCHINA\r\n",
      "192.168.0.11\tCHINA\r\n",
      "192.168.0.12\tCHINA\r\n",
      "192.168.0.13\tCHINA\r\n",
      "192.168.0.14\tCHINA\r\n",
      "192.168.0.15\tCHINA\r\n",
      "192.168.0.16\tCHINA\r\n",
      "192.168.0.17\tCHINA\r\n",
      "192.168.0.18\tCHINA\r\n",
      "192.168.0.19\tCHINA\r\n",
      "192.168.0.20\tCHINA\r\n",
      "192.168.0.21\tCHINA\r\n",
      "192.168.0.22\tCHINA\r\n",
      "192.168.0.23\tCHINA\r\n",
      "192.168.0.24\tCHINA\r\n",
      "192.168.0.25\tCHINA\r\n",
      "192.168.0.26\tCHINA\r\n",
      "192.168.0.27\tCHINA\r\n",
      "192.168.0.28\tCHINA\r\n",
      "192.168.0.29\tCHINA\r\n",
      "192.168.0.30\tCHINA\r\n",
      "192.168.0.31\tCHINA\r\n",
      "192.168.0.32\tCHINA\r\n",
      "192.168.0.33\tCHINA\r\n",
      "192.168.0.34\tCHINA\r\n",
      "192.168.0.35\tCHINA\r\n",
      "192.168.0.36\tCHINA\r\n",
      "192.168.0.37\tCHINA\r\n",
      "192.168.0.38\tCHINA\r\n",
      "192.168.0.39\tCHINA\r\n",
      "192.168.0.40\tCHINA\r\n",
      "192.168.0.41\tCHINA\r\n",
      "192.168.0.42\tCHINA\r\n",
      "192.168.0.43\tCHINA\r\n",
      "192.168.0.44\tCHINA\r\n",
      "192.168.0.45\tCHINA\r\n",
      "192.168.0.46\tCHINA\r\n",
      "192.168.0.47\tCHINA\r\n",
      "192.168.0.48\tCHINA\r\n",
      "192.168.0.49\tCHINA\r\n",
      "192.168.0.50\tCHINA\r\n",
      "192.168.0.51\tCHINA\r\n",
      "192.168.0.52\tCHINA\r\n",
      "192.168.0.53\tCHINA\r\n",
      "192.168.0.54\tCHINA\r\n",
      "192.168.0.55\tCHINA\r\n",
      "192.168.0.56\tCHINA\r\n",
      "192.168.0.57\tCHINA\r\n",
      "192.168.0.58\tCHINA\r\n",
      "192.168.0.59\tCHINA\r\n",
      "192.168.0.60\tCHINA\r\n",
      "192.168.0.61\tCHINA\r\n",
      "192.168.0.62\tCHINA\r\n",
      "192.168.0.63\tCHINA\r\n",
      "192.168.0.64\tCHINA\r\n",
      "192.168.0.65\tCHINA\r\n",
      "192.168.0.66\tCHINA\r\n",
      "192.168.0.67\tCHINA\r\n",
      "192.168.0.68\tCHINA\r\n",
      "192.168.0.69\tCHINA\r\n",
      "192.168.0.70\tCHINA\r\n",
      "192.168.0.71\tCHINA\r\n",
      "192.168.0.72\tCHINA\r\n",
      "192.168.0.73\tCHINA\r\n",
      "192.168.0.74\tCHINA\r\n",
      "192.168.0.75\tCHINA\r\n",
      "192.168.0.76\tCHINA\r\n",
      "192.168.0.77\tCHINA\r\n",
      "192.168.0.78\tCHINA\r\n",
      "192.168.0.79\tCHINA\r\n",
      "192.168.0.80\tCHINA\r\n",
      "192.168.0.81\tCHINA\r\n",
      "192.168.0.82\tCHINA\r\n",
      "192.168.0.83\tCHINA\r\n",
      "192.168.0.84\tCHINA\r\n",
      "192.168.0.85\tCHINA\r\n",
      "192.168.0.86\tCHINA\r\n",
      "192.168.0.87\tCHINA\r\n",
      "192.168.0.88\tCHINA\r\n",
      "192.168.0.89\tCHINA\r\n",
      "192.168.0.90\tCHINA\r\n",
      "192.168.0.91\tCHINA\r\n",
      "192.168.0.92\tCHINA\r\n",
      "192.168.0.93\tCHINA\r\n",
      "192.168.0.94\tCHINA\r\n",
      "192.168.0.95\tCHINA\r\n",
      "192.168.0.96\tCHINA\r\n",
      "192.168.0.97\tCHINA\r\n",
      "192.168.0.98\tCHINA\r\n",
      "192.168.0.99\tCHINA\r\n",
      "192.168.0.100\tCHINA\r\n",
      "192.168.0.101\tCHINA\r\n",
      "192.168.0.102\tCHINA\r\n",
      "192.168.0.103\tCHINA\r\n",
      "192.168.0.104\tCHINA\r\n",
      "192.168.0.105\tCHINA\r\n",
      "192.168.0.106\tCHINA\r\n",
      "192.168.0.107\tCHINA\r\n",
      "192.168.0.108\tCHINA\r\n",
      "192.168.0.109\tCHINA\r\n",
      "192.168.0.110\tCHINA\r\n",
      "192.168.0.111\tCHINA\r\n",
      "192.168.0.112\tCHINA\r\n",
      "192.168.0.113\tCHINA\r\n",
      "192.168.0.114\tCHINA\r\n",
      "192.168.0.115\tCHINA\r\n",
      "192.168.0.116\tCHINA\r\n",
      "192.168.0.117\tCHINA\r\n",
      "192.168.0.118\tCHINA\r\n",
      "192.168.0.119\tCHINA\r\n",
      "192.168.0.120\tCHINA\r\n",
      "192.168.0.121\tCHINA\r\n",
      "192.168.0.122\tCHINA\r\n",
      "192.168.0.123\tCHINA\r\n",
      "192.168.0.124\tCHINA\r\n",
      "192.168.0.125\tCHINA\r\n",
      "192.168.0.126\tCHINA\r\n",
      "192.168.0.127\tCHINA\r\n",
      "192.168.0.128\tCHINA\r\n",
      "192.168.0.129\tCHINA\r\n",
      "192.168.0.130\tCHINA\r\n",
      "192.168.0.131\tCHINA\r\n",
      "192.168.0.132\tCHINA\r\n",
      "192.168.0.133\tCHINA\r\n",
      "192.168.0.134\tCHINA\r\n",
      "192.168.0.135\tCHINA\r\n",
      "192.168.0.136\tCHINA\r\n",
      "192.168.0.137\tCHINA\r\n",
      "192.168.0.138\tCHINA\r\n",
      "192.168.0.139\tCHINA\r\n",
      "192.168.0.140\tCHINA\r\n",
      "192.168.0.141\tCHINA\r\n",
      "192.168.0.142\tCHINA\r\n",
      "192.168.0.143\tCHINA\r\n",
      "192.168.0.144\tCHINA\r\n",
      "192.168.0.145\tCHINA\r\n",
      "192.168.0.146\tCHINA\r\n",
      "192.168.0.147\tCHINA\r\n",
      "192.168.0.148\tCHINA\r\n",
      "192.168.0.149\tCHINA\r\n",
      "192.168.0.150\tCHINA\r\n",
      "192.168.0.151\tCHINA\r\n",
      "192.168.0.152\tCHINA\r\n",
      "192.168.0.153\tCHINA\r\n",
      "192.168.0.154\tCHINA\r\n",
      "192.168.0.155\tCHINA\r\n",
      "192.168.0.156\tCHINA\r\n",
      "192.168.0.157\tCHINA\r\n",
      "192.168.0.158\tCHINA\r\n",
      "192.168.0.159\tCHINA\r\n",
      "192.168.0.160\tCHINA\r\n",
      "192.168.0.161\tCHINA\r\n",
      "192.168.0.162\tCHINA\r\n",
      "192.168.0.163\tCHINA\r\n",
      "192.168.0.164\tCHINA\r\n",
      "192.168.0.165\tCHINA\r\n",
      "192.168.0.166\tCHINA\r\n",
      "192.168.0.167\tCHINA\r\n",
      "192.168.0.168\tCHINA\r\n",
      "192.168.0.169\tCHINA\r\n",
      "192.168.0.170\tCHINA\r\n",
      "192.168.0.171\tCHINA\r\n",
      "192.168.0.172\tCHINA\r\n",
      "192.168.0.173\tCHINA\r\n",
      "192.168.0.174\tCHINA\r\n",
      "192.168.0.175\tCHINA\r\n",
      "192.168.0.176\tCHINA\r\n",
      "192.168.0.177\tCHINA\r\n",
      "192.168.0.178\tCHINA\r\n",
      "192.168.0.179\tCHINA\r\n",
      "192.168.0.180\tCHINA\r\n",
      "192.168.0.181\tCHINA\r\n",
      "192.168.0.182\tCHINA\r\n",
      "192.168.0.183\tCHINA\r\n",
      "192.168.0.184\tCHINA\r\n",
      "192.168.0.185\tCHINA\r\n",
      "192.168.0.186\tCHINA\r\n",
      "192.168.0.187\tCHINA\r\n",
      "192.168.0.188\tCHINA\r\n",
      "192.168.0.189\tCHINA\r\n",
      "192.168.0.190\tCHINA\r\n",
      "192.168.0.191\tCHINA\r\n",
      "192.168.0.192\tCHINA\r\n",
      "192.168.0.193\tCHINA\r\n",
      "192.168.0.194\tCHINA\r\n",
      "192.168.0.195\tCHINA\r\n",
      "192.168.0.196\tCHINA\r\n",
      "192.168.0.197\tCHINA\r\n",
      "192.168.0.198\tCHINA\r\n",
      "192.168.0.199\tCHINA\r\n",
      "192.168.0.200\tCHINA\r\n",
      "192.168.0.201\tRUSSIA\r\n",
      "192.168.0.202\tRUSSIA\r\n",
      "192.168.0.203\tRUSSIA\r\n",
      "192.168.0.204\tRUSSIA\r\n",
      "192.168.0.205\tRUSSIA\r\n",
      "192.168.0.206\tRUSSIA\r\n",
      "192.168.0.207\tRUSSIA\r\n",
      "192.168.0.208\tRUSSIA\r\n",
      "192.168.0.209\tRUSSIA\r\n",
      "192.168.0.210\tRUSSIA\r\n",
      "192.168.0.211\tRUSSIA\r\n",
      "192.168.0.212\tRUSSIA\r\n",
      "192.168.0.213\tRUSSIA\r\n",
      "192.168.0.214\tRUSSIA\r\n",
      "192.168.0.215\tRUSSIA\r\n",
      "192.168.0.216\tRUSSIA\r\n",
      "192.168.0.217\tRUSSIA\r\n",
      "192.168.0.218\tRUSSIA\r\n",
      "192.168.0.219\tRUSSIA\r\n",
      "192.168.0.220\tRUSSIA\r\n",
      "192.168.0.221\tRUSSIA\r\n",
      "192.168.0.222\tRUSSIA\r\n",
      "192.168.0.223\tRUSSIA\r\n",
      "192.168.0.224\tRUSSIA\r\n",
      "192.168.0.225\tRUSSIA\r\n",
      "192.168.0.226\tRUSSIA\r\n",
      "192.168.0.227\tRUSSIA\r\n",
      "192.168.0.228\tRUSSIA\r\n",
      "192.168.0.229\tRUSSIA\r\n",
      "192.168.0.230\tRUSSIA\r\n",
      "192.168.0.231\tRUSSIA\r\n",
      "192.168.0.232\tRUSSIA\r\n",
      "192.168.0.233\tRUSSIA\r\n",
      "192.168.0.234\tRUSSIA\r\n",
      "192.168.0.235\tRUSSIA\r\n",
      "192.168.0.236\tRUSSIA\r\n",
      "192.168.0.237\tRUSSIA\r\n",
      "192.168.0.238\tRUSSIA\r\n",
      "192.168.0.239\tRUSSIA\r\n",
      "192.168.0.240\tRUSSIA\r\n",
      "192.168.0.241\tRUSSIA\r\n",
      "192.168.0.242\tRUSSIA\r\n",
      "192.168.0.243\tRUSSIA\r\n",
      "192.168.0.244\tRUSSIA\r\n",
      "192.168.0.245\tRUSSIA\r\n",
      "192.168.0.246\tRUSSIA\r\n",
      "192.168.0.247\tRUSSIA\r\n",
      "192.168.0.248\tRUSSIA\r\n",
      "192.168.0.249\tRUSSIA\r\n",
      "192.168.0.250\tRUSSIA\r\n",
      "192.168.0.251\tRUSSIA\r\n",
      "192.168.0.252\tRUSSIA\r\n",
      "192.168.0.253\tRUSSIA\r\n",
      "192.168.0.254\tRUSSIA\r\n",
      "192.168.0.255\tRUSSIA\r\n",
      "192.168.1.0\tRUSSIA\r\n",
      "192.168.1.1\tRUSSIA\r\n",
      "192.168.1.2\tRUSSIA\r\n",
      "192.168.1.3\tRUSSIA\r\n",
      "192.168.1.4\tRUSSIA\r\n",
      "192.168.1.5\tRUSSIA\r\n",
      "192.168.1.6\tRUSSIA\r\n",
      "192.168.1.7\tRUSSIA\r\n",
      "192.168.1.8\tRUSSIA\r\n",
      "192.168.1.9\tRUSSIA\r\n",
      "192.168.1.10\tRUSSIA\r\n",
      "192.168.1.11\tRUSSIA\r\n",
      "192.168.1.12\tRUSSIA\r\n",
      "192.168.1.13\tRUSSIA\r\n",
      "192.168.1.14\tRUSSIA\r\n",
      "192.168.1.15\tRUSSIA\r\n",
      "192.168.1.16\tRUSSIA\r\n",
      "192.168.1.17\tRUSSIA\r\n",
      "192.168.1.18\tRUSSIA\r\n",
      "192.168.1.19\tRUSSIA\r\n",
      "192.168.1.20\tRUSSIA\r\n",
      "192.168.1.21\tRUSSIA\r\n",
      "192.168.1.22\tRUSSIA\r\n",
      "192.168.1.23\tRUSSIA\r\n",
      "192.168.1.24\tRUSSIA\r\n",
      "192.168.1.25\tRUSSIA\r\n",
      "192.168.1.26\tRUSSIA\r\n",
      "192.168.1.27\tRUSSIA\r\n",
      "192.168.1.28\tRUSSIA\r\n",
      "192.168.1.29\tRUSSIA\r\n",
      "192.168.1.30\tRUSSIA\r\n",
      "192.168.1.31\tRUSSIA\r\n",
      "192.168.1.32\tRUSSIA\r\n",
      "192.168.1.33\tRUSSIA\r\n",
      "192.168.1.34\tRUSSIA\r\n",
      "192.168.1.35\tRUSSIA\r\n",
      "192.168.1.36\tRUSSIA\r\n",
      "192.168.1.37\tRUSSIA\r\n",
      "192.168.1.38\tRUSSIA\r\n",
      "192.168.1.39\tRUSSIA\r\n",
      "192.168.1.40\tRUSSIA\r\n",
      "192.168.1.41\tRUSSIA\r\n",
      "192.168.1.42\tRUSSIA\r\n",
      "192.168.1.43\tRUSSIA\r\n",
      "192.168.1.44\tRUSSIA\r\n",
      "192.168.1.45\tRUSSIA\r\n",
      "192.168.1.46\tRUSSIA\r\n",
      "192.168.1.47\tRUSSIA\r\n",
      "192.168.1.48\tRUSSIA\r\n",
      "192.168.1.49\tRUSSIA\r\n",
      "192.168.1.50\tRUSSIA\r\n",
      "192.168.1.51\tRUSSIA\r\n",
      "192.168.1.52\tRUSSIA\r\n",
      "192.168.1.53\tRUSSIA\r\n",
      "192.168.1.54\tRUSSIA\r\n",
      "192.168.1.55\tRUSSIA\r\n",
      "192.168.1.56\tRUSSIA\r\n",
      "192.168.1.57\tRUSSIA\r\n",
      "192.168.1.58\tRUSSIA\r\n",
      "192.168.1.59\tRUSSIA\r\n",
      "192.168.1.60\tRUSSIA\r\n",
      "192.168.1.61\tRUSSIA\r\n",
      "192.168.1.62\tRUSSIA\r\n",
      "192.168.1.63\tRUSSIA\r\n",
      "192.168.1.64\tRUSSIA\r\n",
      "192.168.1.65\tRUSSIA\r\n",
      "192.168.1.66\tRUSSIA\r\n",
      "192.168.1.67\tRUSSIA\r\n",
      "192.168.1.68\tRUSSIA\r\n",
      "192.168.1.69\tRUSSIA\r\n",
      "192.168.1.70\tRUSSIA\r\n",
      "192.168.1.71\tRUSSIA\r\n",
      "192.168.1.72\tRUSSIA\r\n",
      "192.168.1.73\tRUSSIA\r\n",
      "192.168.1.74\tRUSSIA\r\n",
      "192.168.1.75\tRUSSIA\r\n",
      "192.168.1.76\tRUSSIA\r\n",
      "192.168.1.77\tRUSSIA\r\n",
      "192.168.1.78\tRUSSIA\r\n",
      "192.168.1.79\tRUSSIA\r\n",
      "192.168.1.80\tRUSSIA\r\n",
      "192.168.1.81\tRUSSIA\r\n",
      "192.168.1.82\tRUSSIA\r\n",
      "192.168.1.83\tRUSSIA\r\n",
      "192.168.1.84\tRUSSIA\r\n",
      "192.168.1.85\tRUSSIA\r\n",
      "192.168.1.86\tRUSSIA\r\n",
      "192.168.1.87\tRUSSIA\r\n",
      "192.168.1.88\tRUSSIA\r\n",
      "192.168.1.89\tRUSSIA\r\n",
      "192.168.1.90\tRUSSIA\r\n",
      "192.168.1.91\tRUSSIA\r\n",
      "192.168.1.92\tRUSSIA\r\n",
      "192.168.1.93\tRUSSIA\r\n",
      "192.168.1.94\tRUSSIA\r\n",
      "192.168.1.95\tRUSSIA\r\n",
      "192.168.1.96\tRUSSIA\r\n",
      "192.168.1.97\tRUSSIA\r\n",
      "192.168.1.98\tRUSSIA\r\n",
      "192.168.1.99\tRUSSIA\r\n",
      "192.168.1.100\tRUSSIA\r\n",
      "192.168.1.101\tRUSSIA\r\n",
      "192.168.1.102\tRUSSIA\r\n",
      "192.168.1.103\tRUSSIA\r\n",
      "192.168.1.104\tRUSSIA\r\n",
      "192.168.1.105\tRUSSIA\r\n",
      "192.168.1.106\tRUSSIA\r\n",
      "192.168.1.107\tRUSSIA\r\n",
      "192.168.1.108\tRUSSIA\r\n",
      "192.168.1.109\tRUSSIA\r\n",
      "192.168.1.110\tRUSSIA\r\n",
      "192.168.1.111\tRUSSIA\r\n",
      "192.168.1.112\tRUSSIA\r\n",
      "192.168.1.113\tRUSSIA\r\n",
      "192.168.1.114\tRUSSIA\r\n",
      "192.168.1.115\tRUSSIA\r\n",
      "192.168.1.116\tRUSSIA\r\n",
      "192.168.1.117\tRUSSIA\r\n",
      "192.168.1.118\tRUSSIA\r\n",
      "192.168.1.119\tRUSSIA\r\n",
      "192.168.1.120\tRUSSIA\r\n",
      "192.168.1.121\tRUSSIA\r\n",
      "192.168.1.122\tRUSSIA\r\n",
      "192.168.1.123\tRUSSIA\r\n",
      "192.168.1.124\tRUSSIA\r\n",
      "192.168.1.125\tRUSSIA\r\n",
      "192.168.1.126\tRUSSIA\r\n",
      "192.168.1.127\tRUSSIA\r\n",
      "192.168.1.128\tRUSSIA\r\n",
      "192.168.1.129\tRUSSIA\r\n",
      "192.168.1.130\tRUSSIA\r\n",
      "192.168.1.131\tRUSSIA\r\n",
      "192.168.1.132\tRUSSIA\r\n",
      "192.168.1.133\tRUSSIA\r\n",
      "192.168.1.134\tRUSSIA\r\n",
      "192.168.1.135\tRUSSIA\r\n",
      "192.168.1.136\tRUSSIA\r\n",
      "192.168.1.137\tRUSSIA\r\n",
      "192.168.1.138\tRUSSIA\r\n",
      "192.168.1.139\tRUSSIA\r\n",
      "192.168.1.140\tRUSSIA\r\n",
      "192.168.1.141\tRUSSIA\r\n",
      "192.168.1.142\tRUSSIA\r\n",
      "192.168.1.143\tRUSSIA\r\n",
      "192.168.1.144\tRUSSIA\r\n",
      "192.168.1.145\tRUSSIA\r\n",
      "192.168.1.146\tRUSSIA\r\n",
      "192.168.1.147\tRUSSIA\r\n",
      "192.168.1.148\tRUSSIA\r\n",
      "192.168.1.149\tRUSSIA\r\n",
      "192.168.1.150\tRUSSIA\r\n",
      "192.168.1.151\tRUSSIA\r\n",
      "192.168.1.152\tRUSSIA\r\n",
      "192.168.1.153\tRUSSIA\r\n",
      "192.168.1.154\tRUSSIA\r\n",
      "192.168.1.155\tRUSSIA\r\n",
      "192.168.1.156\tRUSSIA\r\n",
      "192.168.1.157\tRUSSIA\r\n",
      "192.168.1.158\tRUSSIA\r\n",
      "192.168.1.159\tRUSSIA\r\n",
      "192.168.1.160\tRUSSIA\r\n",
      "192.168.1.161\tRUSSIA\r\n",
      "192.168.1.162\tRUSSIA\r\n",
      "192.168.1.163\tRUSSIA\r\n",
      "192.168.1.164\tRUSSIA\r\n",
      "192.168.1.165\tRUSSIA\r\n",
      "192.168.1.166\tRUSSIA\r\n",
      "192.168.1.167\tRUSSIA\r\n",
      "192.168.1.168\tRUSSIA\r\n",
      "192.168.1.169\tRUSSIA\r\n",
      "192.168.1.170\tRUSSIA\r\n",
      "192.168.1.171\tRUSSIA\r\n",
      "192.168.1.172\tRUSSIA\r\n",
      "192.168.1.173\tRUSSIA\r\n",
      "192.168.1.174\tRUSSIA\r\n",
      "192.168.1.175\tRUSSIA\r\n",
      "192.168.1.176\tRUSSIA\r\n",
      "192.168.1.177\tRUSSIA\r\n",
      "192.168.1.178\tRUSSIA\r\n",
      "192.168.1.179\tRUSSIA\r\n",
      "192.168.1.180\tRUSSIA\r\n",
      "192.168.1.181\tRUSSIA\r\n",
      "192.168.1.182\tRUSSIA\r\n",
      "192.168.1.183\tRUSSIA\r\n",
      "192.168.1.184\tRUSSIA\r\n",
      "192.168.1.185\tRUSSIA\r\n",
      "192.168.1.186\tRUSSIA\r\n",
      "192.168.1.187\tRUSSIA\r\n",
      "192.168.1.188\tRUSSIA\r\n",
      "192.168.1.189\tRUSSIA\r\n",
      "192.168.1.190\tRUSSIA\r\n",
      "192.168.1.191\tRUSSIA\r\n",
      "192.168.1.192\tRUSSIA\r\n",
      "192.168.1.193\tRUSSIA\r\n",
      "192.168.1.194\tRUSSIA\r\n",
      "192.168.1.195\tRUSSIA\r\n",
      "192.168.1.196\tRUSSIA\r\n",
      "192.168.1.197\tRUSSIA\r\n",
      "192.168.1.198\tRUSSIA\r\n",
      "192.168.1.199\tRUSSIA\r\n",
      "192.168.1.200\tRUSSIA\r\n",
      "192.168.1.201\tRUSSIA\r\n",
      "192.168.1.202\tRUSSIA\r\n",
      "192.168.1.203\tRUSSIA\r\n",
      "192.168.1.204\tRUSSIA\r\n",
      "192.168.1.205\tRUSSIA\r\n",
      "192.168.1.206\tRUSSIA\r\n",
      "192.168.1.207\tRUSSIA\r\n",
      "192.168.1.208\tRUSSIA\r\n",
      "192.168.1.209\tRUSSIA\r\n",
      "192.168.1.210\tRUSSIA\r\n",
      "192.168.1.211\tRUSSIA\r\n",
      "192.168.1.212\tRUSSIA\r\n",
      "192.168.1.213\tRUSSIA\r\n",
      "192.168.1.214\tRUSSIA\r\n",
      "192.168.1.215\tRUSSIA\r\n",
      "192.168.1.216\tRUSSIA\r\n",
      "192.168.1.217\tRUSSIA\r\n",
      "192.168.1.218\tRUSSIA\r\n",
      "192.168.1.219\tRUSSIA\r\n",
      "192.168.1.220\tRUSSIA\r\n",
      "192.168.1.221\tRUSSIA\r\n",
      "192.168.1.222\tRUSSIA\r\n",
      "192.168.1.223\tRUSSIA\r\n",
      "192.168.1.224\tRUSSIA\r\n",
      "192.168.1.225\tRUSSIA\r\n",
      "192.168.1.226\tRUSSIA\r\n",
      "192.168.1.227\tRUSSIA\r\n",
      "192.168.1.228\tRUSSIA\r\n",
      "192.168.1.229\tRUSSIA\r\n",
      "192.168.1.230\tRUSSIA\r\n",
      "192.168.1.231\tRUSSIA\r\n",
      "192.168.1.232\tRUSSIA\r\n",
      "192.168.1.233\tRUSSIA\r\n",
      "192.168.1.234\tRUSSIA\r\n",
      "192.168.1.235\tRUSSIA\r\n",
      "192.168.1.236\tRUSSIA\r\n",
      "192.168.1.237\tRUSSIA\r\n",
      "192.168.1.238\tRUSSIA\r\n",
      "192.168.1.239\tRUSSIA\r\n",
      "192.168.1.240\tRUSSIA\r\n",
      "192.168.1.241\tRUSSIA\r\n",
      "192.168.1.242\tRUSSIA\r\n",
      "192.168.1.243\tRUSSIA\r\n",
      "192.168.1.244\tRUSSIA\r\n",
      "192.168.1.245\tRUSSIA\r\n",
      "192.168.1.246\tRUSSIA\r\n",
      "192.168.1.247\tRUSSIA\r\n",
      "192.168.1.248\tRUSSIA\r\n",
      "192.168.1.249\tRUSSIA\r\n",
      "192.168.1.250\tRUSSIA\r\n",
      "192.168.1.251\tRUSSIA\r\n",
      "192.168.1.252\tRUSSIA\r\n",
      "192.168.1.253\tRUSSIA\r\n",
      "192.168.1.254\tRUSSIA\r\n",
      "192.168.1.255\tRUSSIA\r\n",
      "192.168.2.0\tRUSSIA\r\n",
      "192.168.2.1\tRUSSIA\r\n",
      "192.168.2.2\tRUSSIA\r\n",
      "192.168.2.3\tRUSSIA\r\n",
      "192.168.2.4\tRUSSIA\r\n",
      "192.168.2.5\tRUSSIA\r\n",
      "192.168.2.6\tRUSSIA\r\n",
      "192.168.2.7\tRUSSIA\r\n",
      "192.168.2.8\tRUSSIA\r\n",
      "192.168.2.9\tRUSSIA\r\n",
      "192.168.2.10\tRUSSIA\r\n",
      "192.168.2.11\tRUSSIA\r\n",
      "192.168.2.12\tRUSSIA\r\n",
      "192.168.2.13\tRUSSIA\r\n",
      "192.168.2.14\tRUSSIA\r\n",
      "192.168.2.15\tRUSSIA\r\n",
      "192.168.2.16\tRUSSIA\r\n",
      "192.168.2.17\tRUSSIA\r\n",
      "192.168.2.18\tRUSSIA\r\n",
      "192.168.2.19\tRUSSIA\r\n",
      "192.168.2.20\tRUSSIA\r\n",
      "192.168.2.21\tRUSSIA\r\n",
      "192.168.2.22\tRUSSIA\r\n",
      "192.168.2.23\tRUSSIA\r\n",
      "192.168.2.24\tRUSSIA\r\n",
      "192.168.2.25\tRUSSIA\r\n",
      "192.168.2.26\tRUSSIA\r\n",
      "192.168.2.27\tRUSSIA\r\n",
      "192.168.2.28\tRUSSIA\r\n",
      "192.168.2.29\tRUSSIA\r\n",
      "192.168.2.30\tRUSSIA\r\n",
      "192.168.2.31\tRUSSIA\r\n",
      "192.168.2.32\tRUSSIA\r\n",
      "192.168.2.33\tRUSSIA\r\n",
      "192.168.2.34\tRUSSIA\r\n",
      "192.168.2.35\tRUSSIA\r\n",
      "192.168.2.36\tRUSSIA\r\n",
      "192.168.2.37\tRUSSIA\r\n",
      "192.168.2.38\tRUSSIA\r\n",
      "192.168.2.39\tRUSSIA\r\n",
      "192.168.2.40\tRUSSIA\r\n",
      "192.168.2.41\tRUSSIA\r\n",
      "192.168.2.42\tRUSSIA\r\n",
      "192.168.2.43\tRUSSIA\r\n",
      "192.168.2.44\tRUSSIA\r\n",
      "192.168.2.45\tRUSSIA\r\n",
      "192.168.2.46\tRUSSIA\r\n",
      "192.168.2.47\tRUSSIA\r\n",
      "192.168.2.48\tRUSSIA\r\n",
      "192.168.2.49\tRUSSIA\r\n",
      "192.168.2.50\tRUSSIA\r\n",
      "192.168.2.51\tRUSSIA\r\n",
      "192.168.2.52\tRUSSIA\r\n",
      "192.168.2.53\tRUSSIA\r\n",
      "192.168.2.54\tRUSSIA\r\n",
      "192.168.2.55\tRUSSIA\r\n",
      "192.168.2.56\tRUSSIA\r\n",
      "192.168.2.57\tRUSSIA\r\n",
      "192.168.2.58\tRUSSIA\r\n",
      "192.168.2.59\tRUSSIA\r\n",
      "192.168.2.60\tRUSSIA\r\n",
      "192.168.2.61\tRUSSIA\r\n",
      "192.168.2.62\tRUSSIA\r\n",
      "192.168.2.63\tRUSSIA\r\n",
      "192.168.2.64\tRUSSIA\r\n",
      "192.168.2.65\tRUSSIA\r\n",
      "192.168.2.66\tRUSSIA\r\n",
      "192.168.2.67\tRUSSIA\r\n",
      "192.168.2.68\tRUSSIA\r\n",
      "192.168.2.69\tRUSSIA\r\n",
      "192.168.2.70\tRUSSIA\r\n",
      "192.168.2.71\tRUSSIA\r\n",
      "192.168.2.72\tRUSSIA\r\n",
      "192.168.2.73\tRUSSIA\r\n",
      "192.168.2.74\tRUSSIA\r\n",
      "192.168.2.75\tRUSSIA\r\n",
      "192.168.2.76\tRUSSIA\r\n",
      "192.168.2.77\tRUSSIA\r\n",
      "192.168.2.78\tRUSSIA\r\n",
      "192.168.2.79\tRUSSIA\r\n",
      "192.168.2.80\tRUSSIA\r\n",
      "192.168.2.81\tRUSSIA\r\n",
      "192.168.2.82\tRUSSIA\r\n",
      "192.168.2.83\tRUSSIA\r\n",
      "192.168.2.84\tRUSSIA\r\n",
      "192.168.2.85\tRUSSIA\r\n",
      "192.168.2.86\tRUSSIA\r\n",
      "192.168.2.87\tRUSSIA\r\n",
      "192.168.2.88\tRUSSIA\r\n",
      "192.168.2.89\tRUSSIA\r\n",
      "192.168.2.90\tRUSSIA\r\n",
      "192.168.2.91\tRUSSIA\r\n",
      "192.168.2.92\tRUSSIA\r\n",
      "192.168.2.93\tRUSSIA\r\n",
      "192.168.2.94\tRUSSIA\r\n",
      "192.168.2.95\tRUSSIA\r\n",
      "192.168.2.96\tRUSSIA\r\n",
      "192.168.2.97\tRUSSIA\r\n",
      "192.168.2.98\tRUSSIA\r\n",
      "192.168.2.99\tRUSSIA\r\n",
      "192.168.2.100\tRUSSIA\r\n",
      "192.168.2.101\tRUSSIA\r\n",
      "192.168.2.102\tRUSSIA\r\n",
      "192.168.2.103\tRUSSIA\r\n",
      "192.168.2.104\tRUSSIA\r\n",
      "192.168.2.105\tRUSSIA\r\n",
      "192.168.2.106\tRUSSIA\r\n",
      "192.168.2.107\tRUSSIA\r\n",
      "192.168.2.108\tRUSSIA\r\n",
      "192.168.2.109\tRUSSIA\r\n",
      "192.168.2.110\tRUSSIA\r\n",
      "192.168.2.111\tRUSSIA\r\n",
      "192.168.2.112\tRUSSIA\r\n",
      "192.168.2.113\tRUSSIA\r\n",
      "192.168.2.114\tRUSSIA\r\n",
      "192.168.2.115\tRUSSIA\r\n",
      "192.168.2.116\tRUSSIA\r\n",
      "192.168.2.117\tRUSSIA\r\n",
      "192.168.2.118\tRUSSIA\r\n",
      "192.168.2.119\tRUSSIA\r\n",
      "192.168.2.120\tRUSSIA\r\n",
      "192.168.2.121\tRUSSIA\r\n",
      "192.168.2.122\tRUSSIA\r\n",
      "192.168.2.123\tRUSSIA\r\n",
      "192.168.2.124\tRUSSIA\r\n",
      "192.168.2.125\tRUSSIA\r\n",
      "192.168.2.126\tRUSSIA\r\n",
      "192.168.2.127\tRUSSIA\r\n",
      "192.168.2.128\tRUSSIA\r\n",
      "192.168.2.129\tRUSSIA\r\n",
      "192.168.2.130\tRUSSIA\r\n",
      "192.168.2.131\tRUSSIA\r\n",
      "192.168.2.132\tRUSSIA\r\n",
      "192.168.2.133\tRUSSIA\r\n",
      "192.168.2.134\tRUSSIA\r\n",
      "192.168.2.135\tRUSSIA\r\n",
      "192.168.2.136\tRUSSIA\r\n",
      "192.168.2.137\tRUSSIA\r\n",
      "192.168.2.138\tRUSSIA\r\n",
      "192.168.2.139\tRUSSIA\r\n",
      "192.168.2.140\tRUSSIA\r\n",
      "192.168.2.141\tRUSSIA\r\n",
      "192.168.2.142\tRUSSIA\r\n",
      "192.168.2.143\tRUSSIA\r\n",
      "192.168.2.144\tRUSSIA\r\n",
      "192.168.2.145\tRUSSIA\r\n",
      "192.168.2.146\tRUSSIA\r\n",
      "192.168.2.147\tRUSSIA\r\n",
      "192.168.2.148\tRUSSIA\r\n",
      "192.168.2.149\tRUSSIA\r\n",
      "192.168.2.150\tRUSSIA\r\n",
      "192.168.2.151\tRUSSIA\r\n",
      "192.168.2.152\tRUSSIA\r\n",
      "192.168.2.153\tRUSSIA\r\n",
      "192.168.2.154\tRUSSIA\r\n",
      "192.168.2.155\tRUSSIA\r\n",
      "192.168.2.156\tRUSSIA\r\n",
      "192.168.2.157\tRUSSIA\r\n",
      "192.168.2.158\tRUSSIA\r\n",
      "192.168.2.159\tRUSSIA\r\n",
      "192.168.2.160\tRUSSIA\r\n",
      "192.168.2.161\tRUSSIA\r\n",
      "192.168.2.162\tRUSSIA\r\n",
      "192.168.2.163\tRUSSIA\r\n",
      "192.168.2.164\tRUSSIA\r\n",
      "192.168.2.165\tRUSSIA\r\n",
      "192.168.2.166\tRUSSIA\r\n",
      "192.168.2.167\tRUSSIA\r\n",
      "192.168.2.168\tRUSSIA\r\n",
      "192.168.2.169\tRUSSIA\r\n",
      "192.168.2.170\tRUSSIA\r\n",
      "192.168.2.171\tRUSSIA\r\n",
      "192.168.2.172\tRUSSIA\r\n",
      "192.168.2.173\tRUSSIA\r\n",
      "192.168.2.174\tRUSSIA\r\n",
      "192.168.2.175\tRUSSIA\r\n",
      "192.168.2.176\tRUSSIA\r\n",
      "192.168.2.177\tRUSSIA\r\n",
      "192.168.2.178\tRUSSIA\r\n",
      "192.168.2.179\tRUSSIA\r\n",
      "192.168.2.180\tRUSSIA\r\n",
      "192.168.2.181\tRUSSIA\r\n",
      "192.168.2.182\tRUSSIA\r\n",
      "192.168.2.183\tRUSSIA\r\n",
      "192.168.2.184\tRUSSIA\r\n",
      "192.168.2.185\tRUSSIA\r\n",
      "192.168.2.186\tRUSSIA\r\n",
      "192.168.2.187\tRUSSIA\r\n",
      "192.168.2.188\tRUSSIA\r\n",
      "192.168.2.189\tUSA\r\n",
      "192.168.2.190\tUSA\r\n",
      "192.168.2.191\tUSA\r\n",
      "192.168.2.192\tUSA\r\n",
      "192.168.2.193\tUSA\r\n",
      "192.168.2.194\tUSA\r\n",
      "192.168.2.195\tUSA\r\n",
      "192.168.2.196\tUSA\r\n",
      "192.168.2.197\tUSA\r\n",
      "192.168.2.198\tUSA\r\n",
      "192.168.2.199\tUSA\r\n",
      "192.168.2.200\tUSA\r\n",
      "192.168.2.201\tUSA\r\n",
      "192.168.2.202\tUSA\r\n",
      "192.168.2.203\tUSA\r\n",
      "192.168.2.204\tUSA\r\n",
      "192.168.2.205\tUSA\r\n",
      "192.168.2.206\tUSA\r\n",
      "192.168.2.207\tUSA\r\n",
      "192.168.2.208\tUSA\r\n",
      "192.168.2.209\tUSA\r\n",
      "192.168.2.210\tUSA\r\n",
      "192.168.2.211\tUSA\r\n",
      "192.168.2.212\tUSA\r\n",
      "192.168.2.213\tUSA\r\n",
      "192.168.2.214\tUSA\r\n",
      "192.168.2.215\tUSA\r\n",
      "192.168.2.216\tUSA\r\n",
      "192.168.2.217\tUSA\r\n",
      "192.168.2.218\tUSA\r\n",
      "192.168.2.219\tUSA\r\n",
      "192.168.2.220\tUSA\r\n",
      "192.168.2.221\tUSA\r\n",
      "192.168.2.222\tUSA\r\n",
      "192.168.2.223\tUSA\r\n",
      "192.168.2.224\tUSA\r\n",
      "192.168.2.225\tUSA\r\n",
      "192.168.2.226\tUSA\r\n",
      "192.168.2.227\tUSA\r\n",
      "192.168.2.228\tUSA\r\n",
      "192.168.2.229\tUSA\r\n",
      "192.168.2.230\tUSA\r\n",
      "192.168.2.231\tUSA\r\n",
      "192.168.2.232\tUSA\r\n",
      "192.168.2.233\tUSA\r\n",
      "192.168.2.234\tUSA\r\n",
      "192.168.2.235\tUSA\r\n",
      "192.168.2.236\tUSA\r\n",
      "192.168.2.237\tUSA\r\n",
      "192.168.2.238\tUSA\r\n",
      "192.168.2.239\tUSA\r\n",
      "192.168.2.240\tUSA\r\n",
      "192.168.2.241\tUSA\r\n",
      "192.168.2.242\tUSA\r\n",
      "192.168.2.243\tUSA\r\n",
      "192.168.2.244\tUSA\r\n",
      "192.168.2.245\tUSA\r\n",
      "192.168.2.246\tUSA\r\n",
      "192.168.2.247\tUSA\r\n",
      "192.168.2.248\tUSA\r\n",
      "192.168.2.249\tUSA\r\n",
      "192.168.2.250\tUSA\r\n",
      "192.168.2.251\tUSA\r\n",
      "192.168.2.252\tUSA\r\n",
      "192.168.2.253\tUSA\r\n",
      "192.168.2.254\tUSA\r\n",
      "192.168.2.255\tUSA\r\n",
      "192.168.3.0\tUSA\r\n",
      "192.168.3.1\tUSA\r\n",
      "192.168.3.2\tUSA\r\n",
      "192.168.3.3\tUSA\r\n",
      "192.168.3.4\tUSA\r\n",
      "192.168.3.5\tUSA\r\n",
      "192.168.3.6\tUSA\r\n",
      "192.168.3.7\tUSA\r\n",
      "192.168.3.8\tUSA\r\n",
      "192.168.3.9\tUSA\r\n",
      "192.168.3.10\tUSA\r\n",
      "192.168.3.11\tUSA\r\n",
      "192.168.3.12\tUSA\r\n",
      "192.168.3.13\tUSA\r\n",
      "192.168.3.14\tUSA\r\n",
      "192.168.3.15\tUSA\r\n",
      "192.168.3.16\tUSA\r\n",
      "192.168.3.17\tUSA\r\n",
      "192.168.3.18\tUSA\r\n",
      "192.168.3.19\tUSA\r\n",
      "192.168.3.20\tUSA\r\n",
      "192.168.3.21\tUSA\r\n",
      "192.168.3.22\tUSA\r\n",
      "192.168.3.23\tUSA\r\n",
      "192.168.3.24\tUSA\r\n",
      "192.168.3.25\tUSA\r\n",
      "192.168.3.26\tUSA\r\n",
      "192.168.3.27\tUSA\r\n",
      "192.168.3.28\tUSA\r\n",
      "192.168.3.29\tUSA\r\n",
      "192.168.3.30\tUSA\r\n",
      "192.168.3.31\tUSA\r\n",
      "192.168.3.32\tUSA\r\n",
      "192.168.3.33\tUSA\r\n",
      "192.168.3.34\tUSA\r\n",
      "192.168.3.35\tUSA\r\n",
      "192.168.3.36\tUSA\r\n",
      "192.168.3.37\tUSA\r\n",
      "192.168.3.38\tUSA\r\n",
      "192.168.3.39\tUSA\r\n",
      "192.168.3.40\tUSA\r\n",
      "192.168.3.41\tUSA\r\n",
      "192.168.3.42\tUSA\r\n",
      "192.168.3.43\tUSA\r\n",
      "192.168.3.44\tUSA\r\n",
      "192.168.3.45\tUSA\r\n",
      "192.168.3.46\tUSA\r\n",
      "192.168.3.47\tUSA\r\n",
      "192.168.3.48\tUSA\r\n",
      "192.168.3.49\tUSA\r\n",
      "192.168.3.50\tUSA\r\n",
      "192.168.3.51\tUSA\r\n",
      "192.168.3.52\tUSA\r\n",
      "192.168.3.53\tUSA\r\n",
      "192.168.3.54\tUSA\r\n",
      "192.168.3.55\tUSA\r\n",
      "192.168.3.56\tUSA\r\n",
      "192.168.3.57\tUSA\r\n",
      "192.168.3.58\tUSA\r\n",
      "192.168.3.59\tUSA\r\n",
      "192.168.3.60\tUSA\r\n",
      "192.168.3.61\tUSA\r\n",
      "192.168.3.62\tUSA\r\n",
      "192.168.3.63\tUSA\r\n",
      "192.168.3.64\tUSA\r\n",
      "192.168.3.65\tUSA\r\n",
      "192.168.3.66\tUSA\r\n",
      "192.168.3.67\tUSA\r\n",
      "192.168.3.68\tUSA\r\n",
      "192.168.3.69\tUSA\r\n",
      "192.168.3.70\tUSA\r\n",
      "192.168.3.71\tUSA\r\n",
      "192.168.3.72\tUSA\r\n",
      "192.168.3.73\tUSA\r\n",
      "192.168.3.74\tUSA\r\n",
      "192.168.3.75\tUSA\r\n",
      "192.168.3.76\tUSA\r\n",
      "192.168.3.77\tUSA\r\n",
      "192.168.3.78\tUSA\r\n",
      "192.168.3.79\tUSA\r\n",
      "192.168.3.80\tUSA\r\n",
      "192.168.3.81\tUSA\r\n",
      "192.168.3.82\tUSA\r\n",
      "192.168.3.83\tUSA\r\n",
      "192.168.3.84\tUSA\r\n",
      "192.168.3.85\tUSA\r\n",
      "192.168.3.86\tUSA\r\n",
      "192.168.3.87\tUSA\r\n",
      "192.168.3.88\tUSA\r\n",
      "192.168.3.89\tUSA\r\n",
      "192.168.3.90\tUSA\r\n",
      "192.168.3.91\tUSA\r\n",
      "192.168.3.92\tUSA\r\n",
      "192.168.3.93\tUSA\r\n",
      "192.168.3.94\tUSA\r\n",
      "192.168.3.95\tUSA\r\n",
      "192.168.3.96\tUSA\r\n",
      "192.168.3.97\tUSA\r\n",
      "192.168.3.98\tUSA\r\n",
      "192.168.3.99\tUSA\r\n",
      "192.168.3.100\tUSA\r\n",
      "192.168.3.101\tUSA\r\n",
      "192.168.3.102\tUSA\r\n",
      "192.168.3.103\tUSA\r\n",
      "192.168.3.104\tUSA\r\n",
      "192.168.3.105\tUSA\r\n",
      "192.168.3.106\tUSA\r\n",
      "192.168.3.107\tUSA\r\n",
      "192.168.3.108\tUSA\r\n",
      "192.168.3.109\tUSA\r\n",
      "192.168.3.110\tUSA\r\n",
      "192.168.3.111\tUSA\r\n",
      "192.168.3.112\tUSA\r\n",
      "192.168.3.113\tUSA\r\n",
      "192.168.3.114\tUSA\r\n",
      "192.168.3.115\tUSA\r\n",
      "192.168.3.116\tUSA\r\n",
      "192.168.3.117\tUSA\r\n",
      "192.168.3.118\tUSA\r\n",
      "192.168.3.119\tUSA\r\n",
      "192.168.3.120\tUSA\r\n",
      "192.168.3.121\tUSA\r\n",
      "192.168.3.122\tUSA\r\n",
      "192.168.3.123\tUSA\r\n",
      "192.168.3.124\tUSA\r\n",
      "192.168.3.125\tUSA\r\n",
      "192.168.3.126\tUSA\r\n",
      "192.168.3.127\tUSA\r\n",
      "192.168.3.128\tUSA\r\n",
      "192.168.3.129\tUSA\r\n",
      "192.168.3.130\tUSA\r\n",
      "192.168.3.131\tUSA\r\n",
      "192.168.3.132\tUSA\r\n",
      "192.168.3.133\tUSA\r\n",
      "192.168.3.134\tUSA\r\n",
      "192.168.3.135\tUSA\r\n",
      "192.168.3.136\tUSA\r\n",
      "192.168.3.137\tUSA\r\n",
      "192.168.3.138\tUSA\r\n",
      "192.168.3.139\tUSA\r\n",
      "192.168.3.140\tUSA\r\n",
      "192.168.3.141\tUSA\r\n",
      "192.168.3.142\tUSA\r\n",
      "192.168.3.143\tUSA\r\n",
      "192.168.3.144\tUSA\r\n",
      "192.168.3.145\tUSA\r\n",
      "192.168.3.146\tUSA\r\n",
      "192.168.3.147\tUSA\r\n",
      "192.168.3.148\tUSA\r\n",
      "192.168.3.149\tUSA\r\n",
      "192.168.3.150\tUSA\r\n",
      "192.168.3.151\tUSA\r\n",
      "192.168.3.152\tUSA\r\n",
      "192.168.3.153\tUSA\r\n",
      "192.168.3.154\tUSA\r\n",
      "192.168.3.155\tUSA\r\n",
      "192.168.3.156\tUSA\r\n",
      "192.168.3.157\tUSA\r\n",
      "192.168.3.158\tUSA\r\n",
      "192.168.3.159\tUSA\r\n",
      "192.168.3.160\tUSA\r\n",
      "192.168.3.161\tUSA\r\n",
      "192.168.3.162\tUSA\r\n",
      "192.168.3.163\tUSA\r\n",
      "192.168.3.164\tUSA\r\n",
      "192.168.3.165\tUSA\r\n",
      "192.168.3.166\tUSA\r\n",
      "192.168.3.167\tUSA\r\n",
      "192.168.3.168\tUSA\r\n",
      "192.168.3.169\tUSA\r\n",
      "192.168.3.170\tUSA\r\n",
      "192.168.3.171\tUSA\r\n",
      "192.168.3.172\tUSA\r\n",
      "192.168.3.173\tUSA\r\n",
      "192.168.3.174\tUSA\r\n",
      "192.168.3.175\tUSA\r\n",
      "192.168.3.176\tUSA\r\n",
      "192.168.3.177\tUSA\r\n",
      "192.168.3.178\tUSA\r\n",
      "192.168.3.179\tUSA\r\n",
      "192.168.3.180\tUSA\r\n",
      "192.168.3.181\tUSA\r\n",
      "192.168.3.182\tUSA\r\n",
      "192.168.3.183\tUSA\r\n",
      "192.168.3.184\tUSA\r\n",
      "192.168.3.185\tUSA\r\n",
      "192.168.3.186\tUSA\r\n",
      "192.168.3.187\tUSA\r\n",
      "192.168.3.188\tUSA\r\n",
      "192.168.3.189\tUSA\r\n",
      "192.168.3.190\tUSA\r\n",
      "192.168.3.191\tUSA\r\n",
      "192.168.3.192\tUSA\r\n",
      "192.168.3.193\tUSA\r\n",
      "192.168.3.194\tUSA\r\n",
      "192.168.3.195\tUSA\r\n",
      "192.168.3.196\tUSA\r\n",
      "192.168.3.197\tUSA\r\n",
      "192.168.3.198\tUSA\r\n",
      "192.168.3.199\tUSA\r\n",
      "192.168.3.200\tUSA\r\n",
      "192.168.3.201\tUSA\r\n",
      "192.168.3.202\tUSA\r\n",
      "192.168.3.203\tUSA\r\n",
      "192.168.3.204\tUSA\r\n",
      "192.168.3.205\tUSA\r\n",
      "192.168.3.206\tUSA\r\n",
      "192.168.3.207\tUSA\r\n",
      "192.168.3.208\tUSA\r\n",
      "192.168.3.209\tUSA\r\n",
      "192.168.3.210\tUSA\r\n",
      "192.168.3.211\tUSA\r\n",
      "192.168.3.212\tUSA\r\n",
      "192.168.3.213\tUSA\r\n",
      "192.168.3.214\tUSA\r\n",
      "192.168.3.215\tUSA\r\n",
      "192.168.3.216\tUSA\r\n",
      "192.168.3.217\tUSA\r\n",
      "192.168.3.218\tUSA\r\n",
      "192.168.3.219\tUSA\r\n",
      "192.168.3.220\tUSA\r\n",
      "192.168.3.221\tUSA\r\n",
      "192.168.3.222\tUSA\r\n",
      "192.168.3.223\tUSA\r\n",
      "192.168.3.224\tUSA\r\n",
      "192.168.3.225\tUSA\r\n",
      "192.168.3.226\tUSA\r\n",
      "192.168.3.227\tUSA\r\n",
      "192.168.3.228\tUSA\r\n",
      "192.168.3.229\tUSA\r\n",
      "192.168.3.230\tUSA\r\n",
      "192.168.3.231\tUSA\r\n",
      "192.168.3.232\tUSA\r\n"
     ]
    }
   ],
   "source": [
    "!hdfs dfs -cat /lectures/lecture01/data/ips.txt"
   ]
  },
  {
   "cell_type": "code",
   "execution_count": 17,
   "metadata": {
    "pycharm": {
     "name": "#%%\n"
    }
   },
   "outputs": [],
   "source": [
    "rdd2 = sc.textFile(\"/lectures/lecture01/data/ips.txt\")"
   ]
  },
  {
   "cell_type": "code",
   "execution_count": 18,
   "metadata": {
    "pycharm": {
     "name": "#%%\n"
    }
   },
   "outputs": [
    {
     "data": {
      "text/plain": [
       "['192.168.0.1\\tCHINA',\n",
       " '192.168.0.2\\tCHINA',\n",
       " '192.168.0.3\\tCHINA',\n",
       " '192.168.0.4\\tCHINA',\n",
       " '192.168.0.5\\tCHINA',\n",
       " '192.168.0.6\\tCHINA',\n",
       " '192.168.0.7\\tCHINA',\n",
       " '192.168.0.8\\tCHINA',\n",
       " '192.168.0.9\\tCHINA',\n",
       " '192.168.0.10\\tCHINA']"
      ]
     },
     "execution_count": 18,
     "metadata": {},
     "output_type": "execute_result"
    }
   ],
   "source": [
    "rdd2.take(10)"
   ]
  },
  {
   "cell_type": "code",
   "execution_count": 19,
   "metadata": {
    "pycharm": {
     "name": "#%%\n"
    }
   },
   "outputs": [
    {
     "data": {
      "text/plain": [
       "1000"
      ]
     },
     "execution_count": 19,
     "metadata": {},
     "output_type": "execute_result"
    }
   ],
   "source": [
    "rdd2.count()"
   ]
  },
  {
   "cell_type": "code",
   "execution_count": 20,
   "metadata": {
    "pycharm": {
     "name": "#%%\n"
    }
   },
   "outputs": [
    {
     "data": {
      "text/plain": [
       "2"
      ]
     },
     "execution_count": 20,
     "metadata": {},
     "output_type": "execute_result"
    }
   ],
   "source": [
    "rdd2.getNumPartitions()"
   ]
  },
  {
   "cell_type": "code",
   "execution_count": 30,
   "metadata": {
    "pycharm": {
     "name": "#%%\n"
    }
   },
   "outputs": [],
   "source": [
    "rdd2.repartition(9).saveAsTextFile(\"ips_repart_v4.txt\")"
   ]
  },
  {
   "cell_type": "code",
   "execution_count": 34,
   "metadata": {
    "scrolled": true,
    "pycharm": {
     "name": "#%%\n"
    }
   },
   "outputs": [
    {
     "name": "stdout",
     "output_type": "stream",
     "text": [
      "WARNING: Use of this script to execute dfs is deprecated.\n",
      "WARNING: Attempting to execute replacement \"hdfs dfs\" instead.\n",
      "\n",
      "ls: `/data/home/teacher/ips_repart_v4.txt': No such file or directory\n"
     ]
    }
   ],
   "source": [
    "!hadoop dfs -ls /user/teacher/ips_repart_v4.txt"
   ]
  },
  {
   "cell_type": "code",
   "execution_count": 32,
   "metadata": {
    "pycharm": {
     "name": "#%%\n"
    }
   },
   "outputs": [],
   "source": [
    "rdd3 = sc.textFile(\"ips_repart_v4.txt\")"
   ]
  },
  {
   "cell_type": "code",
   "execution_count": 33,
   "metadata": {
    "pycharm": {
     "name": "#%%\n"
    }
   },
   "outputs": [
    {
     "data": {
      "text/plain": [
       "9"
      ]
     },
     "execution_count": 33,
     "metadata": {},
     "output_type": "execute_result"
    }
   ],
   "source": [
    "rdd3.getNumPartitions()"
   ]
  },
  {
   "cell_type": "markdown",
   "metadata": {
    "pycharm": {
     "name": "#%% md\n"
    }
   },
   "source": [
    "## RDD API состоит из операции двух типов:\n",
    "- action\n",
    "- transformation"
   ]
  },
  {
   "cell_type": "markdown",
   "metadata": {
    "pycharm": {
     "name": "#%% md\n"
    }
   },
   "source": [
    "<img src=\"pics/rdd_action_transformation.png\" width=800/>"
   ]
  },
  {
   "cell_type": "markdown",
   "metadata": {
    "pycharm": {
     "name": "#%% md\n"
    }
   },
   "source": [
    "### Трансформация преобразовывает RDD в другой RDD и не приводит к вычислению графа"
   ]
  },
  {
   "cell_type": "code",
   "execution_count": 44,
   "metadata": {
    "pycharm": {
     "name": "#%%\n"
    }
   },
   "outputs": [],
   "source": [
    "rdd = sc.parallelize(range(10000000))\n",
    "rdd2 = rdd.filter(lambda x: x % 2)"
   ]
  },
  {
   "cell_type": "code",
   "execution_count": 42,
   "metadata": {
    "pycharm": {
     "name": "#%%\n"
    }
   },
   "outputs": [
    {
     "data": {
      "text/plain": [
       "3"
      ]
     },
     "execution_count": 42,
     "metadata": {},
     "output_type": "execute_result"
    }
   ],
   "source": [
    "rdd2.getNumPartitions()"
   ]
  },
  {
   "cell_type": "code",
   "execution_count": 52,
   "metadata": {
    "pycharm": {
     "name": "#%%\n"
    }
   },
   "outputs": [
    {
     "data": {
      "text/plain": [
       "3"
      ]
     },
     "execution_count": 52,
     "metadata": {},
     "output_type": "execute_result"
    }
   ],
   "source": [
    "rdd2.getNumPartitions()"
   ]
  },
  {
   "cell_type": "code",
   "execution_count": 55,
   "metadata": {
    "pycharm": {
     "name": "#%%\n"
    }
   },
   "outputs": [],
   "source": [
    "rdd3 = rdd2.repartition(8)"
   ]
  },
  {
   "cell_type": "code",
   "execution_count": 56,
   "metadata": {
    "pycharm": {
     "name": "#%%\n"
    }
   },
   "outputs": [
    {
     "data": {
      "text/plain": [
       "8"
      ]
     },
     "execution_count": 56,
     "metadata": {},
     "output_type": "execute_result"
    }
   ],
   "source": [
    "rdd3.getNumPartitions()"
   ]
  },
  {
   "cell_type": "markdown",
   "metadata": {
    "pycharm": {
     "name": "#%% md\n"
    }
   },
   "source": [
    "### Action заставляет Spark вычислить граф и вернуть результат либо на драйвер, либо во внешнее хранилище"
   ]
  },
  {
   "cell_type": "code",
   "execution_count": 49,
   "metadata": {
    "pycharm": {
     "name": "#%%\n"
    }
   },
   "outputs": [
    {
     "data": {
      "text/plain": [
       "5000000"
      ]
     },
     "execution_count": 49,
     "metadata": {},
     "output_type": "execute_result"
    }
   ],
   "source": [
    "rdd2.count()"
   ]
  },
  {
   "cell_type": "code",
   "execution_count": 51,
   "metadata": {
    "pycharm": {
     "name": "#%%\n"
    }
   },
   "outputs": [
    {
     "data": {
      "text/plain": [
       "[1, 3, 5, 7, 9, 11, 13, 15, 17, 19]"
      ]
     },
     "execution_count": 51,
     "metadata": {},
     "output_type": "execute_result"
    }
   ],
   "source": [
    "rdd2.take(10)"
   ]
  },
  {
   "cell_type": "markdown",
   "metadata": {
    "pycharm": {
     "name": "#%% md\n"
    }
   },
   "source": [
    "### Трансформации можно применять одну за другой, никаких вычислений не будет сделано, пока не будет вызван action"
   ]
  },
  {
   "cell_type": "code",
   "execution_count": 57,
   "metadata": {
    "pycharm": {
     "name": "#%%\n"
    }
   },
   "outputs": [],
   "source": [
    "rdd = sc.parallelize(range(1000000))"
   ]
  },
  {
   "cell_type": "code",
   "execution_count": 58,
   "metadata": {
    "pycharm": {
     "name": "#%%\n"
    }
   },
   "outputs": [
    {
     "data": {
      "text/plain": [
       "PythonRDD[49] at RDD at PythonRDD.scala:53"
      ]
     },
     "execution_count": 58,
     "metadata": {},
     "output_type": "execute_result"
    }
   ],
   "source": [
    "rdd2 = rdd.filter(lambda x: x % 1000).filter(lambda x: x % 7)\n",
    "rdd2"
   ]
  },
  {
   "cell_type": "code",
   "execution_count": 59,
   "metadata": {
    "pycharm": {
     "name": "#%%\n"
    }
   },
   "outputs": [
    {
     "data": {
      "text/plain": [
       "PythonRDD[50] at RDD at PythonRDD.scala:53"
      ]
     },
     "execution_count": 59,
     "metadata": {},
     "output_type": "execute_result"
    }
   ],
   "source": [
    "rdd3 = rdd2.map(lambda x: x * 2)\n",
    "rdd3"
   ]
  },
  {
   "cell_type": "code",
   "execution_count": 61,
   "metadata": {
    "pycharm": {
     "name": "#%%\n"
    }
   },
   "outputs": [],
   "source": [
    "d = rdd3.collect()"
   ]
  },
  {
   "cell_type": "code",
   "execution_count": 63,
   "metadata": {
    "pycharm": {
     "name": "#%%\n"
    }
   },
   "outputs": [
    {
     "data": {
      "text/plain": [
       "list"
      ]
     },
     "execution_count": 63,
     "metadata": {},
     "output_type": "execute_result"
    }
   ],
   "source": [
    "type(d)"
   ]
  },
  {
   "cell_type": "markdown",
   "metadata": {
    "pycharm": {
     "name": "#%% md\n"
    }
   },
   "source": [
    "### `take()` пытается минимизировать число обращений к партициям, поэтому может возвращать смещенные результаты"
   ]
  },
  {
   "cell_type": "code",
   "execution_count": 64,
   "metadata": {
    "pycharm": {
     "name": "#%%\n"
    }
   },
   "outputs": [
    {
     "data": {
      "text/plain": [
       "[0, 1, 2, 3, 4, 5, 6, 7, 8, 9]"
      ]
     },
     "execution_count": 64,
     "metadata": {},
     "output_type": "execute_result"
    }
   ],
   "source": [
    "rdd.take(10)"
   ]
  },
  {
   "cell_type": "markdown",
   "metadata": {
    "pycharm": {
     "name": "#%% md\n"
    }
   },
   "source": [
    "### Будьте аккуратны с `collect()`, потому что он загружает все данные из RDD на драйвер. Это может легко привести к Out of Memory exception"
   ]
  },
  {
   "cell_type": "code",
   "execution_count": 65,
   "metadata": {
    "pycharm": {
     "name": "#%%\n"
    }
   },
   "outputs": [
    {
     "data": {
      "text/plain": [
       "[0, 1, 2, 3, 4, 5, 6, 7, 8, 9, 10, 11, 12, 13, 14, 15, 16, 17, 18, 19]"
      ]
     },
     "execution_count": 65,
     "metadata": {},
     "output_type": "execute_result"
    }
   ],
   "source": [
    "rdd.collect()[:20]"
   ]
  },
  {
   "cell_type": "markdown",
   "metadata": {
    "pycharm": {
     "name": "#%% md\n"
    }
   },
   "source": [
    "### Если нужно получить небольшое число записей на драйвер и, при этом, сохранить распределение, то лучше сделать выборку"
   ]
  },
  {
   "cell_type": "code",
   "execution_count": 66,
   "metadata": {
    "pycharm": {
     "name": "#%%\n"
    }
   },
   "outputs": [
    {
     "data": {
      "text/plain": [
       "[347399,\n",
       " 536788,\n",
       " 94124,\n",
       " 169558,\n",
       " 729189,\n",
       " 836541,\n",
       " 973939,\n",
       " 512558,\n",
       " 171385,\n",
       " 123303,\n",
       " 364321,\n",
       " 587839,\n",
       " 139749,\n",
       " 532891,\n",
       " 757568,\n",
       " 969298,\n",
       " 544812,\n",
       " 690521,\n",
       " 175014,\n",
       " 895109]"
      ]
     },
     "execution_count": 66,
     "metadata": {},
     "output_type": "execute_result"
    }
   ],
   "source": [
    "rdd.takeSample(withReplacement=False, num=20, seed=5757)"
   ]
  },
  {
   "cell_type": "markdown",
   "metadata": {
    "pycharm": {
     "name": "#%% md\n"
    }
   },
   "source": [
    "## Познакомимся с данными. Будем работать с двумя таблицами"
   ]
  },
  {
   "cell_type": "markdown",
   "metadata": {
    "pycharm": {
     "name": "#%% md\n"
    }
   },
   "source": [
    "![](pics/data_table1.png)"
   ]
  },
  {
   "cell_type": "markdown",
   "metadata": {
    "pycharm": {
     "name": "#%% md\n"
    }
   },
   "source": [
    "![](pics/data_table2.png)"
   ]
  },
  {
   "cell_type": "markdown",
   "metadata": {
    "pycharm": {
     "name": "#%% md\n"
    }
   },
   "source": [
    "### Примеры трансформаций"
   ]
  },
  {
   "cell_type": "code",
   "execution_count": 67,
   "metadata": {
    "pycharm": {
     "name": "#%%\n"
    }
   },
   "outputs": [],
   "source": [
    "rdd = sc.textFile(\"/lectures/lecture01/data/ips.txt\")"
   ]
  },
  {
   "cell_type": "code",
   "execution_count": 68,
   "metadata": {
    "pycharm": {
     "name": "#%%\n"
    }
   },
   "outputs": [
    {
     "data": {
      "text/plain": [
       "2"
      ]
     },
     "execution_count": 68,
     "metadata": {},
     "output_type": "execute_result"
    }
   ],
   "source": [
    "rdd.getNumPartitions()"
   ]
  },
  {
   "cell_type": "code",
   "execution_count": 69,
   "metadata": {
    "pycharm": {
     "name": "#%%\n"
    }
   },
   "outputs": [
    {
     "data": {
      "text/plain": [
       "['192.168.0.1\\tCHINA',\n",
       " '192.168.0.2\\tCHINA',\n",
       " '192.168.0.3\\tCHINA',\n",
       " '192.168.0.4\\tCHINA',\n",
       " '192.168.0.5\\tCHINA']"
      ]
     },
     "execution_count": 69,
     "metadata": {},
     "output_type": "execute_result"
    }
   ],
   "source": [
    "rdd.take(5)"
   ]
  },
  {
   "cell_type": "code",
   "execution_count": 70,
   "metadata": {
    "pycharm": {
     "name": "#%%\n"
    }
   },
   "outputs": [],
   "source": [
    "ips = rdd.map(lambda x: x.split(\"\\t\"))"
   ]
  },
  {
   "cell_type": "code",
   "execution_count": 71,
   "metadata": {
    "pycharm": {
     "name": "#%%\n"
    }
   },
   "outputs": [
    {
     "data": {
      "text/plain": [
       "[['192.168.0.1', 'CHINA'],\n",
       " ['192.168.0.2', 'CHINA'],\n",
       " ['192.168.0.3', 'CHINA'],\n",
       " ['192.168.0.4', 'CHINA'],\n",
       " ['192.168.0.5', 'CHINA']]"
      ]
     },
     "execution_count": 71,
     "metadata": {},
     "output_type": "execute_result"
    }
   ],
   "source": [
    "ips.take(5)"
   ]
  },
  {
   "cell_type": "code",
   "execution_count": 72,
   "metadata": {
    "pycharm": {
     "name": "#%%\n"
    }
   },
   "outputs": [],
   "source": [
    "ips_filtered = ips.filter(lambda x: x[1] != \"CHINA\")"
   ]
  },
  {
   "cell_type": "code",
   "execution_count": 73,
   "metadata": {
    "pycharm": {
     "name": "#%%\n"
    }
   },
   "outputs": [
    {
     "data": {
      "text/plain": [
       "[['192.168.0.201', 'RUSSIA'],\n",
       " ['192.168.0.202', 'RUSSIA'],\n",
       " ['192.168.0.203', 'RUSSIA'],\n",
       " ['192.168.0.204', 'RUSSIA'],\n",
       " ['192.168.0.205', 'RUSSIA']]"
      ]
     },
     "execution_count": 73,
     "metadata": {},
     "output_type": "execute_result"
    }
   ],
   "source": [
    "ips_filtered.take(5)"
   ]
  },
  {
   "cell_type": "code",
   "execution_count": 74,
   "metadata": {
    "pycharm": {
     "name": "#%%\n"
    }
   },
   "outputs": [
    {
     "name": "stdout",
     "output_type": "stream",
     "text": [
      "Found 5 items\r\n",
      "-rw-r--r--   3 hdfs hdfs          0 2022-01-06 18:47 /lectures/lecture01/data/log.txt/_SUCCESS\r\n",
      "-rw-r--r--   3 hdfs hdfs   12650786 2022-01-06 18:47 /lectures/lecture01/data/log.txt/part-00000\r\n",
      "-rw-r--r--   3 hdfs hdfs   12644978 2022-01-06 18:47 /lectures/lecture01/data/log.txt/part-00001\r\n",
      "-rw-r--r--   3 hdfs hdfs   12646744 2022-01-06 18:47 /lectures/lecture01/data/log.txt/part-00002\r\n",
      "-rw-r--r--   3 hdfs hdfs   12676672 2022-01-06 18:47 /lectures/lecture01/data/log.txt/part-00003\r\n"
     ]
    }
   ],
   "source": [
    "!hdfs dfs -ls /lectures/lecture01/data/log.txt"
   ]
  },
  {
   "cell_type": "code",
   "execution_count": 75,
   "metadata": {
    "pycharm": {
     "name": "#%%\n"
    }
   },
   "outputs": [],
   "source": [
    "raw_logs = sc.textFile(\"/lectures/lecture01/data/log.txt\")"
   ]
  },
  {
   "cell_type": "code",
   "execution_count": 76,
   "metadata": {
    "pycharm": {
     "name": "#%%\n"
    }
   },
   "outputs": [
    {
     "data": {
      "text/plain": [
       "4"
      ]
     },
     "execution_count": 76,
     "metadata": {},
     "output_type": "execute_result"
    }
   ],
   "source": [
    "raw_logs.getNumPartitions()"
   ]
  },
  {
   "cell_type": "code",
   "execution_count": 77,
   "metadata": {
    "pycharm": {
     "name": "#%%\n"
    }
   },
   "outputs": [
    {
     "data": {
      "text/plain": [
       "['192.168.0.10\\tERROR\\tWhen production fails in dipsair, whom you gonna call?',\n",
       " '192.168.0.39\\tINFO\\tJust an info message passing by',\n",
       " '192.168.0.35\\tINFO\\tJust an info message passing by',\n",
       " '192.168.0.19\\tINFO\\tJust an info message passing by',\n",
       " '192.168.0.23\\tERROR\\tWhen production fails in dipsair, whom you gonna call?']"
      ]
     },
     "execution_count": 77,
     "metadata": {},
     "output_type": "execute_result"
    }
   ],
   "source": [
    "raw_logs.take(5)"
   ]
  },
  {
   "cell_type": "code",
   "execution_count": 78,
   "metadata": {
    "pycharm": {
     "name": "#%%\n"
    }
   },
   "outputs": [],
   "source": [
    "logs = raw_logs.map(lambda x: x.split(\"\\t\"))"
   ]
  },
  {
   "cell_type": "code",
   "execution_count": 79,
   "metadata": {
    "pycharm": {
     "name": "#%%\n"
    }
   },
   "outputs": [
    {
     "data": {
      "text/plain": [
       "[['192.168.0.10',\n",
       "  'ERROR',\n",
       "  'When production fails in dipsair, whom you gonna call?'],\n",
       " ['192.168.0.39', 'INFO', 'Just an info message passing by'],\n",
       " ['192.168.0.35', 'INFO', 'Just an info message passing by'],\n",
       " ['192.168.0.19', 'INFO', 'Just an info message passing by'],\n",
       " ['192.168.0.23',\n",
       "  'ERROR',\n",
       "  'When production fails in dipsair, whom you gonna call?']]"
      ]
     },
     "execution_count": 79,
     "metadata": {},
     "output_type": "execute_result"
    }
   ],
   "source": [
    "logs.take(5)"
   ]
  },
  {
   "cell_type": "code",
   "execution_count": 80,
   "metadata": {
    "pycharm": {
     "name": "#%%\n"
    }
   },
   "outputs": [
    {
     "data": {
      "text/plain": [
       "['When',\n",
       " 'production',\n",
       " 'fails',\n",
       " 'in',\n",
       " 'dipsair,',\n",
       " 'whom',\n",
       " 'you',\n",
       " 'gonna',\n",
       " 'call?',\n",
       " 'Just',\n",
       " 'an',\n",
       " 'info',\n",
       " 'message',\n",
       " 'passing',\n",
       " 'by',\n",
       " 'Just',\n",
       " 'an',\n",
       " 'info',\n",
       " 'message',\n",
       " 'passing']"
      ]
     },
     "execution_count": 80,
     "metadata": {},
     "output_type": "execute_result"
    }
   ],
   "source": [
    "logs.flatMap(lambda x: x[2].split()).take(20)"
   ]
  },
  {
   "cell_type": "code",
   "execution_count": 81,
   "metadata": {
    "pycharm": {
     "name": "#%%\n"
    }
   },
   "outputs": [],
   "source": [
    "words = logs.flatMap(lambda x: x[2].split())"
   ]
  },
  {
   "cell_type": "code",
   "execution_count": 83,
   "metadata": {
    "pycharm": {
     "name": "#%%\n"
    }
   },
   "outputs": [
    {
     "ename": "TypeError",
     "evalue": "groupBy() missing 1 required positional argument: 'f'",
     "output_type": "error",
     "traceback": [
      "\u001B[0;31m---------------------------------------------------------------------------\u001B[0m",
      "\u001B[0;31mTypeError\u001B[0m                                 Traceback (most recent call last)",
      "\u001B[0;32m<ipython-input-83-3a8084993670>\u001B[0m in \u001B[0;36m<module>\u001B[0;34m()\u001B[0m\n\u001B[0;32m----> 1\u001B[0;31m \u001B[0mwords\u001B[0m\u001B[0;34m.\u001B[0m\u001B[0mgroupBy\u001B[0m\u001B[0;34m(\u001B[0m\u001B[0;34m)\u001B[0m\u001B[0;34m.\u001B[0m\u001B[0mcount\u001B[0m\u001B[0;34m(\u001B[0m\u001B[0;34m)\u001B[0m\u001B[0;34m\u001B[0m\u001B[0m\n\u001B[0m",
      "\u001B[0;31mTypeError\u001B[0m: groupBy() missing 1 required positional argument: 'f'"
     ]
    }
   ],
   "source": [
    "words.groupBy(lambda x: x).count()"
   ]
  },
  {
   "cell_type": "markdown",
   "metadata": {
    "pycharm": {
     "name": "#%% md\n"
    }
   },
   "source": [
    "## Зачем нужны отдельные трансформации и отдельные action?"
   ]
  },
  {
   "cell_type": "markdown",
   "metadata": {
    "pycharm": {
     "name": "#%% md\n"
    }
   },
   "source": [
    "![](pics/dag1.png)"
   ]
  },
  {
   "cell_type": "markdown",
   "metadata": {
    "pycharm": {
     "name": "#%% md\n"
    }
   },
   "source": [
    "![](pics/dag2.png)"
   ]
  },
  {
   "cell_type": "markdown",
   "metadata": {
    "pycharm": {
     "name": "#%% md\n"
    }
   },
   "source": [
    "### Последовательность трансформаций определяет граф вычислений (DAG - direct acyclic graph). В нем есть партиции и зависимости между партициями. Таким образом Spark имеет всю необходимую информацию для вычилсения графа в любой точке и возможных оптимизаций"
   ]
  },
  {
   "cell_type": "markdown",
   "metadata": {
    "pycharm": {
     "name": "#%% md\n"
    }
   },
   "source": [
    "![](pics/dag3.png)"
   ]
  },
  {
   "cell_type": "markdown",
   "metadata": {
    "pycharm": {
     "name": "#%% md\n"
    }
   },
   "source": [
    "### Трансформации бывают *узкими*"
   ]
  },
  {
   "cell_type": "markdown",
   "metadata": {
    "pycharm": {
     "name": "#%% md\n"
    }
   },
   "source": [
    "![](pics/narrow_transformation.png)"
   ]
  },
  {
   "cell_type": "markdown",
   "metadata": {
    "pycharm": {
     "name": "#%% md\n"
    }
   },
   "source": [
    "### И *широкими*"
   ]
  },
  {
   "cell_type": "markdown",
   "metadata": {
    "pycharm": {
     "name": "#%% md\n"
    }
   },
   "source": [
    "![](pics/wide_transformation.png)"
   ]
  },
  {
   "cell_type": "markdown",
   "metadata": {
    "pycharm": {
     "name": "#%% md\n"
    }
   },
   "source": [
    "### Широкие трансформации разделяют джоб на стейджи. Между стейджами происходит shuffle данных, которого надо избегать. Кстати почему?"
   ]
  },
  {
   "cell_type": "markdown",
   "metadata": {
    "pycharm": {
     "name": "#%% md\n"
    }
   },
   "source": [
    "## Summary:\n",
    "    \n",
    "    - Каждое действие (action) инициирует новое задание (job)\n",
    "    - Spark анализирует граф RDD и строит план выполнения\n",
    "    - План выполнения может включать несколько этапов (stages)\n",
    "    - Каждый этап состоит из набора задач (tasks) - полняется один и тот же код на разных кусочках данных"
   ]
  },
  {
   "cell_type": "code",
   "execution_count": 86,
   "metadata": {
    "pycharm": {
     "name": "#%%\n"
    }
   },
   "outputs": [
    {
     "data": {
      "text/plain": [
       "b'(2) PythonRDD[80] at RDD at PythonRDD.scala:53 []\\n |  /lectures/lecture01/data/ips.txt MapPartitionsRDD[78] at textFile at NativeMethodAccessorImpl.java:0 []\\n |  /lectures/lecture01/data/ips.txt HadoopRDD[77] at textFile at NativeMethodAccessorImpl.java:0 []'"
      ]
     },
     "execution_count": 86,
     "metadata": {},
     "output_type": "execute_result"
    }
   ],
   "source": [
    "rdd = sc.textFile(\"/lectures/lecture01/data/ips.txt\")\n",
    "ips = rdd.map(lambda x: x.split(\"\\t\"))\n",
    "ips_filtered = ips.filter(lambda x: x[1] != \"CHINA\")\n",
    "ips_filtered.take(5)\n",
    "ips_filtered.toDebugString()"
   ]
  },
  {
   "cell_type": "code",
   "execution_count": 87,
   "metadata": {
    "pycharm": {
     "name": "#%%\n"
    }
   },
   "outputs": [
    {
     "data": {
      "text/plain": [
       "19"
      ]
     },
     "execution_count": 87,
     "metadata": {},
     "output_type": "execute_result"
    }
   ],
   "source": [
    "raw_logs = sc.textFile(\"/lectures/lecture01/data/log.txt\")\n",
    "logs = raw_logs.map(lambda x: x.split(\"\\t\"))\n",
    "words = logs.flatMap(lambda x: x[2].split())\n",
    "words.groupBy(lambda x: x).count()"
   ]
  },
  {
   "cell_type": "markdown",
   "metadata": {
    "pycharm": {
     "name": "#%% md\n"
    }
   },
   "source": [
    "## Персистентность и кэширование"
   ]
  },
  {
   "cell_type": "markdown",
   "metadata": {
    "pycharm": {
     "name": "#%% md\n"
    }
   },
   "source": [
    "### RDD вычисляются лениво, когда вызывается action. Часто мы хотим вызвать несколько actions для одного и тоге же RDD. Если мы просто сделаем это, то граф будет полностью перевычисляться каждый раз."
   ]
  },
  {
   "cell_type": "code",
   "execution_count": 88,
   "metadata": {
    "pycharm": {
     "name": "#%%\n"
    }
   },
   "outputs": [
    {
     "data": {
      "text/plain": [
       "1000"
      ]
     },
     "execution_count": 88,
     "metadata": {},
     "output_type": "execute_result"
    }
   ],
   "source": [
    "ips.count()"
   ]
  },
  {
   "cell_type": "code",
   "execution_count": 89,
   "metadata": {
    "pycharm": {
     "name": "#%%\n"
    }
   },
   "outputs": [
    {
     "data": {
      "text/plain": [
       "[['192.168.3.99', 'USA'],\n",
       " ['192.168.3.98', 'USA'],\n",
       " ['192.168.3.97', 'USA'],\n",
       " ['192.168.3.96', 'USA'],\n",
       " ['192.168.3.95', 'USA'],\n",
       " ['192.168.3.94', 'USA'],\n",
       " ['192.168.3.93', 'USA'],\n",
       " ['192.168.3.92', 'USA'],\n",
       " ['192.168.3.91', 'USA'],\n",
       " ['192.168.3.90', 'USA']]"
      ]
     },
     "execution_count": 89,
     "metadata": {},
     "output_type": "execute_result"
    }
   ],
   "source": [
    "ips.top(10)"
   ]
  },
  {
   "cell_type": "markdown",
   "metadata": {
    "pycharm": {
     "name": "#%% md\n"
    }
   },
   "source": [
    "### Чтобы этого избежать, мы можем закэшировать RDD в памяти. Кэширование произойдет при вызове первого action."
   ]
  },
  {
   "cell_type": "code",
   "execution_count": 90,
   "metadata": {
    "pycharm": {
     "name": "#%%\n"
    }
   },
   "outputs": [],
   "source": [
    "ips_cached = ips.cache()"
   ]
  },
  {
   "cell_type": "code",
   "execution_count": 91,
   "metadata": {
    "pycharm": {
     "name": "#%%\n"
    }
   },
   "outputs": [
    {
     "data": {
      "text/plain": [
       "1000"
      ]
     },
     "execution_count": 91,
     "metadata": {},
     "output_type": "execute_result"
    }
   ],
   "source": [
    "ips_cached.count()"
   ]
  },
  {
   "cell_type": "code",
   "execution_count": 92,
   "metadata": {
    "pycharm": {
     "name": "#%%\n"
    }
   },
   "outputs": [
    {
     "data": {
      "text/plain": [
       "[['192.168.3.99', 'USA'],\n",
       " ['192.168.3.98', 'USA'],\n",
       " ['192.168.3.97', 'USA'],\n",
       " ['192.168.3.96', 'USA'],\n",
       " ['192.168.3.95', 'USA'],\n",
       " ['192.168.3.94', 'USA'],\n",
       " ['192.168.3.93', 'USA'],\n",
       " ['192.168.3.92', 'USA'],\n",
       " ['192.168.3.91', 'USA'],\n",
       " ['192.168.3.90', 'USA'],\n",
       " ['192.168.3.9', 'USA'],\n",
       " ['192.168.3.89', 'USA'],\n",
       " ['192.168.3.88', 'USA'],\n",
       " ['192.168.3.87', 'USA'],\n",
       " ['192.168.3.86', 'USA'],\n",
       " ['192.168.3.85', 'USA'],\n",
       " ['192.168.3.84', 'USA'],\n",
       " ['192.168.3.83', 'USA'],\n",
       " ['192.168.3.82', 'USA'],\n",
       " ['192.168.3.81', 'USA']]"
      ]
     },
     "execution_count": 92,
     "metadata": {},
     "output_type": "execute_result"
    }
   ],
   "source": [
    "ips_cached.top(20)"
   ]
  },
  {
   "cell_type": "markdown",
   "metadata": {
    "pycharm": {
     "name": "#%% md\n"
    }
   },
   "source": [
    "### `cache()` сохраняет RDD в памяти. Для большего контроля можно использовать `persist(storage_level)`:\n",
    "+ MEMORY_ONLY\n",
    "+ MEMORY_AND_DISK\n",
    "+ DISK_ONLY\n",
    "+ MEMORY_ONLY_2\n",
    "+ MEMORY_AND_DISK_2"
   ]
  },
  {
   "cell_type": "markdown",
   "metadata": {
    "pycharm": {
     "name": "#%% md\n"
    }
   },
   "source": [
    "## Удаление данных из кэша\n",
    " - Автоматическое (LRU cache)"
   ]
  },
  {
   "cell_type": "code",
   "execution_count": 93,
   "metadata": {
    "pycharm": {
     "name": "#%%\n"
    }
   },
   "outputs": [
    {
     "data": {
      "text/plain": [
       "PythonRDD[90] at RDD at PythonRDD.scala:53"
      ]
     },
     "execution_count": 93,
     "metadata": {},
     "output_type": "execute_result"
    }
   ],
   "source": [
    "ips_cached.unpersist()"
   ]
  },
  {
   "cell_type": "markdown",
   "metadata": {
    "pycharm": {
     "name": "#%% md\n"
    }
   },
   "source": [
    "### Обработка отказов\n",
    "\n",
    "- Промежуточные результаты не сохраняются в HDFS\n",
    "- RDD по-умолчанию не реплицируются\n",
    "- Для восстановления потерянных данных используется информация о происхождении\n",
    "- Spark восстанавливает потерянные фрагменты RDD, заново вычисляя их путем применения трансформаций"
   ]
  },
  {
   "cell_type": "markdown",
   "metadata": {
    "pycharm": {
     "name": "#%% md\n"
    }
   },
   "source": [
    "## PairRDD (ключ-значение)"
   ]
  },
  {
   "cell_type": "markdown",
   "metadata": {
    "pycharm": {
     "name": "#%% md\n"
    }
   },
   "source": [
    "### PairRDD - это RDD для работы с парами ключ-значение. Spark предполагает, что PairRDD содержит в себе объекты, состящие ровно из двух элементов! PairRDD предоставляют методы группировки, аггрегации и объединения (join) двух RDD"
   ]
  },
  {
   "cell_type": "markdown",
   "metadata": {
    "pycharm": {
     "name": "#%% md\n"
    }
   },
   "source": [
    "### Пусть есть задача подсчитать распределение кодов ERROR и WARNING в лог-файле"
   ]
  },
  {
   "cell_type": "code",
   "execution_count": 94,
   "metadata": {
    "pycharm": {
     "name": "#%%\n"
    }
   },
   "outputs": [
    {
     "data": {
      "text/plain": [
       "['192.168.0.10\\tERROR\\tWhen production fails in dipsair, whom you gonna call?',\n",
       " '192.168.0.39\\tINFO\\tJust an info message passing by',\n",
       " '192.168.0.35\\tINFO\\tJust an info message passing by',\n",
       " '192.168.0.19\\tINFO\\tJust an info message passing by',\n",
       " '192.168.0.23\\tERROR\\tWhen production fails in dipsair, whom you gonna call?']"
      ]
     },
     "execution_count": 94,
     "metadata": {},
     "output_type": "execute_result"
    }
   ],
   "source": [
    "raw_logs.take(5)"
   ]
  },
  {
   "cell_type": "code",
   "execution_count": 95,
   "metadata": {
    "pycharm": {
     "name": "#%%\n"
    }
   },
   "outputs": [
    {
     "data": {
      "text/plain": [
       "[('ERROR', <pyspark.resultiterable.ResultIterable at 0x7f7b9acb6c50>),\n",
       " ('WARNING', <pyspark.resultiterable.ResultIterable at 0x7f7b9acb6860>)]"
      ]
     },
     "execution_count": 95,
     "metadata": {},
     "output_type": "execute_result"
    }
   ],
   "source": [
    "(raw_logs.filter(lambda x: \"INFO\" not in x)\n",
    "         .map(lambda x: (x.split(\"\\t\")[1], 1))\\\n",
    "         .groupByKey()\n",
    "         .collect())"
   ]
  },
  {
   "cell_type": "code",
   "execution_count": 96,
   "metadata": {
    "pycharm": {
     "name": "#%%\n"
    }
   },
   "outputs": [
    {
     "data": {
      "text/plain": [
       "[('WARNING', 250004), ('ERROR', 49948)]"
      ]
     },
     "execution_count": 96,
     "metadata": {},
     "output_type": "execute_result"
    }
   ],
   "source": [
    "(raw_logs.filter(lambda x: \"INFO\" not in x)\n",
    "         .map(lambda x: (x.split(\"\\t\")[1], 1))\\\n",
    "         .groupByKey()\n",
    "         .map(lambda x: (x[0], len(x[1])))\n",
    "         .collect())"
   ]
  },
  {
   "cell_type": "markdown",
   "metadata": {
    "pycharm": {
     "name": "#%% md\n"
    }
   },
   "source": [
    "### Или немного проще"
   ]
  },
  {
   "cell_type": "code",
   "execution_count": 97,
   "metadata": {
    "pycharm": {
     "name": "#%%\n"
    }
   },
   "outputs": [
    {
     "data": {
      "text/plain": [
       "dict_items([('ERROR', 49948), ('WARNING', 250004)])"
      ]
     },
     "execution_count": 97,
     "metadata": {},
     "output_type": "execute_result"
    }
   ],
   "source": [
    "(raw_logs.filter(lambda x: \"INFO\" not in x)\n",
    "         .map(lambda x: (x.split(\"\\t\")[1], 1))\n",
    "         .countByKey()\n",
    "         .items())"
   ]
  },
  {
   "cell_type": "markdown",
   "metadata": {
    "pycharm": {
     "name": "#%% md\n"
    }
   },
   "source": [
    "### Стоит заметить, что `groupByKey()` предполагает перемещение всех записей с одним ключом на один экзекьютор. В случае очень скошенных распределений это может привести к падению экзекьютора с OOM. Поэтому всегда при группировках стоит подумать об использовании `reduceByKey()`."
   ]
  },
  {
   "cell_type": "code",
   "execution_count": 98,
   "metadata": {
    "pycharm": {
     "name": "#%%\n"
    }
   },
   "outputs": [],
   "source": [
    "def plus(x, y):\n",
    "    return x + y"
   ]
  },
  {
   "cell_type": "code",
   "execution_count": 99,
   "metadata": {
    "pycharm": {
     "name": "#%%\n"
    }
   },
   "outputs": [
    {
     "data": {
      "text/plain": [
       "[('WARNING', 250004), ('ERROR', 49948)]"
      ]
     },
     "execution_count": 99,
     "metadata": {},
     "output_type": "execute_result"
    }
   ],
   "source": [
    "(raw_logs.filter(lambda x: \"INFO\" not in x)\n",
    "         .map(lambda x: (x.split(\"\\t\")[1], 1))\\\n",
    "         .reduceByKey(plus)\n",
    "         .collect())"
   ]
  },
  {
   "cell_type": "code",
   "execution_count": 100,
   "metadata": {
    "pycharm": {
     "name": "#%%\n"
    }
   },
   "outputs": [
    {
     "data": {
      "text/plain": [
       "[('WARNING', 250004), ('ERROR', 49948)]"
      ]
     },
     "execution_count": 100,
     "metadata": {},
     "output_type": "execute_result"
    }
   ],
   "source": [
    "(raw_logs.filter(lambda x: \"INFO\" not in x)\n",
    "         .map(lambda x: (x.split(\"\\t\")[1], 1))\\\n",
    "         .reduceByKey(lambda x, y: x + y)\n",
    "         .collect())"
   ]
  },
  {
   "cell_type": "markdown",
   "metadata": {
    "pycharm": {
     "name": "#%% md\n"
    }
   },
   "source": [
    "## Join"
   ]
  },
  {
   "cell_type": "markdown",
   "metadata": {
    "pycharm": {
     "name": "#%% md\n"
    }
   },
   "source": [
    "### Два PairRDD можно объединить по ключу\n",
    "### Поддерживаются inner join, left outer join, right outer join и full outer join"
   ]
  },
  {
   "cell_type": "code",
   "execution_count": 101,
   "metadata": {
    "pycharm": {
     "name": "#%%\n"
    }
   },
   "outputs": [
    {
     "data": {
      "text/plain": [
       "[['192.168.0.10',\n",
       "  'ERROR',\n",
       "  'When production fails in dipsair, whom you gonna call?'],\n",
       " ['192.168.0.39', 'INFO', 'Just an info message passing by'],\n",
       " ['192.168.0.35', 'INFO', 'Just an info message passing by'],\n",
       " ['192.168.0.19', 'INFO', 'Just an info message passing by'],\n",
       " ['192.168.0.23',\n",
       "  'ERROR',\n",
       "  'When production fails in dipsair, whom you gonna call?']]"
      ]
     },
     "execution_count": 101,
     "metadata": {},
     "output_type": "execute_result"
    }
   ],
   "source": [
    "logs.take(5)"
   ]
  },
  {
   "cell_type": "code",
   "execution_count": 102,
   "metadata": {
    "pycharm": {
     "name": "#%%\n"
    }
   },
   "outputs": [
    {
     "data": {
      "text/plain": [
       "[['192.168.0.1', 'CHINA'],\n",
       " ['192.168.0.2', 'CHINA'],\n",
       " ['192.168.0.3', 'CHINA'],\n",
       " ['192.168.0.4', 'CHINA'],\n",
       " ['192.168.0.5', 'CHINA']]"
      ]
     },
     "execution_count": 102,
     "metadata": {},
     "output_type": "execute_result"
    }
   ],
   "source": [
    "ips.take(5)"
   ]
  },
  {
   "cell_type": "code",
   "execution_count": 108,
   "metadata": {
    "pycharm": {
     "name": "#%%\n"
    }
   },
   "outputs": [
    {
     "data": {
      "text/plain": [
       "pyspark.rdd.PipelinedRDD"
      ]
     },
     "execution_count": 108,
     "metadata": {},
     "output_type": "execute_result"
    }
   ],
   "source": [
    "type(ips)"
   ]
  },
  {
   "cell_type": "code",
   "execution_count": 103,
   "metadata": {
    "pycharm": {
     "name": "#%%\n"
    }
   },
   "outputs": [
    {
     "data": {
      "text/plain": [
       "[('192.168.0.64', ('WARNING', 'CHINA')),\n",
       " ('192.168.0.64', ('INFO', 'CHINA')),\n",
       " ('192.168.0.64', ('INFO', 'CHINA')),\n",
       " ('192.168.0.64', ('WARNING', 'CHINA')),\n",
       " ('192.168.0.64', ('WARNING', 'CHINA'))]"
      ]
     },
     "execution_count": 103,
     "metadata": {},
     "output_type": "execute_result"
    }
   ],
   "source": [
    "logs.join(ips).take(5)"
   ]
  },
  {
   "cell_type": "markdown",
   "metadata": {
    "pycharm": {
     "name": "#%% md\n"
    }
   },
   "source": [
    "![](pics/Jackie-Chan-WTF.jpg)"
   ]
  },
  {
   "cell_type": "markdown",
   "metadata": {
    "pycharm": {
     "name": "#%% md\n"
    }
   },
   "source": [
    "### Не стоит забывать, что Spark предполагает, что PairRDD состоит ровно! из двух элементов, поэтому все остальные элементы просто отбрасываются!"
   ]
  },
  {
   "cell_type": "code",
   "execution_count": 104,
   "metadata": {
    "pycharm": {
     "name": "#%%\n"
    }
   },
   "outputs": [],
   "source": [
    "def split_logs(line):\n",
    "    split = line.split(\"\\t\")\n",
    "    return split[0], split[1:]"
   ]
  },
  {
   "cell_type": "code",
   "execution_count": 105,
   "metadata": {
    "pycharm": {
     "name": "#%%\n"
    }
   },
   "outputs": [],
   "source": [
    "logs_cached = raw_logs.map(split_logs).cache()"
   ]
  },
  {
   "cell_type": "code",
   "execution_count": 106,
   "metadata": {
    "pycharm": {
     "name": "#%%\n"
    }
   },
   "outputs": [
    {
     "data": {
      "text/plain": [
       "[('192.168.0.10',\n",
       "  ['ERROR', 'When production fails in dipsair, whom you gonna call?']),\n",
       " ('192.168.0.39', ['INFO', 'Just an info message passing by']),\n",
       " ('192.168.0.35', ['INFO', 'Just an info message passing by']),\n",
       " ('192.168.0.19', ['INFO', 'Just an info message passing by']),\n",
       " ('192.168.0.23',\n",
       "  ['ERROR', 'When production fails in dipsair, whom you gonna call?'])]"
      ]
     },
     "execution_count": 106,
     "metadata": {},
     "output_type": "execute_result"
    }
   ],
   "source": [
    "logs_cached.take(5)"
   ]
  },
  {
   "cell_type": "code",
   "execution_count": 107,
   "metadata": {
    "pycharm": {
     "name": "#%%\n"
    }
   },
   "outputs": [
    {
     "data": {
      "text/plain": [
       "[('192.168.0.23',\n",
       "  (['ERROR', 'When production fails in dipsair, whom you gonna call?'],\n",
       "   'CHINA')),\n",
       " ('192.168.0.23', (['INFO', 'Just an info message passing by'], 'CHINA')),\n",
       " ('192.168.0.23', (['INFO', 'Just an info message passing by'], 'CHINA')),\n",
       " ('192.168.0.23',\n",
       "  (['ERROR', 'When production fails in dipsair, whom you gonna call?'],\n",
       "   'CHINA')),\n",
       " ('192.168.0.23', (['INFO', 'Just an info message passing by'], 'CHINA'))]"
      ]
     },
     "execution_count": 107,
     "metadata": {},
     "output_type": "execute_result"
    }
   ],
   "source": [
    "logs_cached.join(ips).take(5)"
   ]
  },
  {
   "cell_type": "markdown",
   "metadata": {
    "pycharm": {
     "name": "#%% md\n"
    }
   },
   "source": [
    "## Управление параллелизмом."
   ]
  },
  {
   "cell_type": "markdown",
   "metadata": {
    "pycharm": {
     "name": "#%% md\n"
    }
   },
   "source": [
    "### Вспомним, что атомарным уровнем параллелизма в Spark является партиция. Об этом всегда стоит помнить, когда есть проблемы с производительностью приложения"
   ]
  },
  {
   "cell_type": "code",
   "execution_count": 109,
   "metadata": {
    "pycharm": {
     "name": "#%%\n"
    }
   },
   "outputs": [
    {
     "data": {
      "text/plain": [
       "4"
      ]
     },
     "execution_count": 109,
     "metadata": {},
     "output_type": "execute_result"
    }
   ],
   "source": [
    "logs.getNumPartitions()"
   ]
  },
  {
   "cell_type": "markdown",
   "metadata": {
    "pycharm": {
     "name": "#%% md\n"
    }
   },
   "source": [
    "### Метод `repartition()` может быть использован для изменения числа партиций."
   ]
  },
  {
   "cell_type": "code",
   "execution_count": 113,
   "metadata": {
    "pycharm": {
     "name": "#%%\n"
    }
   },
   "outputs": [],
   "source": [
    "logs = logs.repartition(1000)"
   ]
  },
  {
   "cell_type": "code",
   "execution_count": 115,
   "metadata": {
    "pycharm": {
     "name": "#%%\n"
    }
   },
   "outputs": [
    {
     "data": {
      "text/plain": [
       "1000"
      ]
     },
     "execution_count": 115,
     "metadata": {},
     "output_type": "execute_result"
    }
   ],
   "source": [
    "logs.getNumPartitions()"
   ]
  },
  {
   "cell_type": "markdown",
   "metadata": {
    "pycharm": {
     "name": "#%% md\n"
    }
   },
   "source": [
    "### `repartition()` всегда приводит к равномерному перераспределению данных, что ведет к shuffle. Если Вы уменьшаете число партиций, то стоит использовать `coalesce()`, который может избежать shuffle"
   ]
  },
  {
   "cell_type": "code",
   "execution_count": 116,
   "metadata": {
    "pycharm": {
     "name": "#%%\n"
    }
   },
   "outputs": [],
   "source": [
    "logs = logs.coalesce(6)"
   ]
  },
  {
   "cell_type": "code",
   "execution_count": 121,
   "metadata": {
    "pycharm": {
     "name": "#%%\n"
    }
   },
   "outputs": [
    {
     "data": {
      "text/plain": [
       "3"
      ]
     },
     "execution_count": 121,
     "metadata": {},
     "output_type": "execute_result"
    }
   ],
   "source": [
    "logs.getNumPartitions()"
   ]
  },
  {
   "cell_type": "code",
   "execution_count": 120,
   "metadata": {
    "pycharm": {
     "name": "#%%\n"
    }
   },
   "outputs": [],
   "source": [
    "logs = logs.coalesce(3)"
   ]
  },
  {
   "cell_type": "code",
   "execution_count": 122,
   "metadata": {
    "pycharm": {
     "name": "#%%\n"
    }
   },
   "outputs": [],
   "source": [
    "logs = logs.coalesce(6)"
   ]
  },
  {
   "cell_type": "code",
   "execution_count": 123,
   "metadata": {
    "pycharm": {
     "name": "#%%\n"
    }
   },
   "outputs": [
    {
     "data": {
      "text/plain": [
       "3"
      ]
     },
     "execution_count": 123,
     "metadata": {},
     "output_type": "execute_result"
    }
   ],
   "source": [
    "logs.getNumPartitions()"
   ]
  },
  {
   "cell_type": "markdown",
   "metadata": {
    "pycharm": {
     "name": "#%% md\n"
    }
   },
   "source": [
    "### Узнать дефолтный уровень параллелизма можно из конфига. По-умолчанию, при работе с YARN, использукется общее число ядер, выделенных этому SparkContext на всех экзекьюторах, либо 2. Что больше."
   ]
  },
  {
   "cell_type": "code",
   "execution_count": 124,
   "metadata": {
    "pycharm": {
     "name": "#%%\n"
    }
   },
   "outputs": [
    {
     "name": "stdout",
     "output_type": "stream",
     "text": [
      "None\n"
     ]
    }
   ],
   "source": [
    "print(sc.getConf().get(\"spark.default.parallelism\"))"
   ]
  },
  {
   "cell_type": "code",
   "execution_count": 125,
   "metadata": {
    "pycharm": {
     "name": "#%%\n"
    }
   },
   "outputs": [
    {
     "data": {
      "text/plain": [
       "3"
      ]
     },
     "execution_count": 125,
     "metadata": {},
     "output_type": "execute_result"
    }
   ],
   "source": [
    "sc.parallelize(range(100000)).getNumPartitions()"
   ]
  },
  {
   "cell_type": "markdown",
   "metadata": {
    "pycharm": {
     "name": "#%% md\n"
    }
   },
   "source": [
    "## Broadcast"
   ]
  },
  {
   "cell_type": "markdown",
   "metadata": {
    "pycharm": {
     "name": "#%% md\n"
    }
   },
   "source": [
    "### Broadcast-объект - это неизменяемая переменная, которая разделяется между всеми экзекьюторами\n",
    "### Дистрибуция broadcast-объекта производится быстро и эффективно p2p-протоколом"
   ]
  },
  {
   "cell_type": "markdown",
   "metadata": {
    "pycharm": {
     "name": "#%% md\n"
    }
   },
   "source": [
    "### Реализуем map-side join с помощью broadcast-объекта"
   ]
  },
  {
   "cell_type": "code",
   "execution_count": 126,
   "metadata": {
    "pycharm": {
     "name": "#%%\n"
    }
   },
   "outputs": [],
   "source": [
    "ips_local = dict(ips.collect())"
   ]
  },
  {
   "cell_type": "code",
   "execution_count": 127,
   "metadata": {
    "pycharm": {
     "name": "#%%\n"
    }
   },
   "outputs": [
    {
     "data": {
      "text/plain": [
       "'CHINA'"
      ]
     },
     "execution_count": 127,
     "metadata": {},
     "output_type": "execute_result"
    }
   ],
   "source": [
    "ips_local['192.168.0.10']"
   ]
  },
  {
   "cell_type": "code",
   "execution_count": 128,
   "metadata": {
    "pycharm": {
     "name": "#%%\n"
    }
   },
   "outputs": [],
   "source": [
    "ips_broadcasted = sc.broadcast(ips_local)"
   ]
  },
  {
   "cell_type": "code",
   "execution_count": 130,
   "metadata": {
    "pycharm": {
     "name": "#%%\n"
    }
   },
   "outputs": [
    {
     "data": {
      "text/plain": [
       "'CHINA'"
      ]
     },
     "execution_count": 130,
     "metadata": {},
     "output_type": "execute_result"
    }
   ],
   "source": [
    "ips_broadcasted.value['192.168.0.10']"
   ]
  },
  {
   "cell_type": "code",
   "execution_count": 129,
   "metadata": {
    "pycharm": {
     "name": "#%%\n"
    }
   },
   "outputs": [
    {
     "data": {
      "text/plain": [
       "dict"
      ]
     },
     "execution_count": 129,
     "metadata": {},
     "output_type": "execute_result"
    }
   ],
   "source": [
    "type(ips_broadcasted.value)"
   ]
  },
  {
   "cell_type": "code",
   "execution_count": 131,
   "metadata": {
    "pycharm": {
     "name": "#%%\n"
    }
   },
   "outputs": [
    {
     "data": {
      "text/plain": [
       "[('192.168.0.10',\n",
       "  ['ERROR', 'When production fails in dipsair, whom you gonna call?']),\n",
       " ('192.168.0.39', ['INFO', 'Just an info message passing by']),\n",
       " ('192.168.0.35', ['INFO', 'Just an info message passing by']),\n",
       " ('192.168.0.19', ['INFO', 'Just an info message passing by']),\n",
       " ('192.168.0.23',\n",
       "  ['ERROR', 'When production fails in dipsair, whom you gonna call?'])]"
      ]
     },
     "execution_count": 131,
     "metadata": {},
     "output_type": "execute_result"
    }
   ],
   "source": [
    "logs_cached.take(5)"
   ]
  },
  {
   "cell_type": "code",
   "execution_count": 134,
   "metadata": {
    "pycharm": {
     "name": "#%%\n"
    }
   },
   "outputs": [],
   "source": [
    "def resolve_ip(row):\n",
    "    return ips_broadcasted.value[row[0]], row[0:] ## row[0] is the IP address"
   ]
  },
  {
   "cell_type": "code",
   "execution_count": 135,
   "metadata": {
    "pycharm": {
     "name": "#%%\n"
    }
   },
   "outputs": [
    {
     "data": {
      "text/plain": [
       "[('CHINA',\n",
       "  ('192.168.0.10',\n",
       "   ['ERROR', 'When production fails in dipsair, whom you gonna call?'])),\n",
       " ('CHINA', ('192.168.0.39', ['INFO', 'Just an info message passing by'])),\n",
       " ('CHINA', ('192.168.0.35', ['INFO', 'Just an info message passing by'])),\n",
       " ('CHINA', ('192.168.0.19', ['INFO', 'Just an info message passing by'])),\n",
       " ('CHINA',\n",
       "  ('192.168.0.23',\n",
       "   ['ERROR', 'When production fails in dipsair, whom you gonna call?'])),\n",
       " ('CHINA',\n",
       "  ('192.168.0.90',\n",
       "   ['ERROR', 'When production fails in dipsair, whom you gonna call?'])),\n",
       " ('CHINA', ('192.168.0.1', ['INFO', 'Just an info message passing by'])),\n",
       " ('CHINA', ('192.168.0.82', ['WARNING', 'Something bad could happen'])),\n",
       " ('CHINA', ('192.168.0.89', ['INFO', 'Just an info message passing by'])),\n",
       " ('CHINA', ('192.168.0.2', ['INFO', 'Just an info message passing by']))]"
      ]
     },
     "execution_count": 135,
     "metadata": {},
     "output_type": "execute_result"
    }
   ],
   "source": [
    "logs_cached.map(resolve_ip).take(10)"
   ]
  },
  {
   "cell_type": "markdown",
   "metadata": {
    "pycharm": {
     "name": "#%% md\n"
    }
   },
   "source": [
    "## Не забудьте погасить SparkContext!"
   ]
  },
  {
   "cell_type": "code",
   "execution_count": 136,
   "metadata": {
    "pycharm": {
     "name": "#%%\n"
    }
   },
   "outputs": [],
   "source": [
    "sc.stop()"
   ]
  },
  {
   "cell_type": "markdown",
   "metadata": {
    "pycharm": {
     "name": "#%% md\n"
    }
   },
   "source": [
    "#### Полезные ссылки\n",
    "####  https://spark.apache.org/docs/2.4.7/rdd-programming-guide.html\n",
    "\n",
    "    "
   ]
  },
  {
   "cell_type": "code",
   "execution_count": null,
   "metadata": {
    "pycharm": {
     "name": "#%%\n"
    }
   },
   "outputs": [],
   "source": []
  }
 ],
 "metadata": {
  "kernelspec": {
   "display_name": "Python 3 (ipykernel)",
   "language": "python",
   "name": "python3"
  },
  "language_info": {
   "codemirror_mode": {
    "name": "ipython",
    "version": 3
   },
   "file_extension": ".py",
   "mimetype": "text/x-python",
   "name": "python",
   "nbconvert_exporter": "python",
   "pygments_lexer": "ipython3",
   "version": "3.8.10"
  }
 },
 "nbformat": 4,
 "nbformat_minor": 2
}